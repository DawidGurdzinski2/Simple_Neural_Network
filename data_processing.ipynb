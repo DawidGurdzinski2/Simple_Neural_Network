{
 "cells": [
  {
   "cell_type": "code",
   "execution_count": 92,
   "metadata": {},
   "outputs": [],
   "source": [
    "import io\n",
    "import pandas as pd\n",
    "import numpy as np\n",
    "import matplotlib.pyplot as plt"
   ]
  },
  {
   "cell_type": "markdown",
   "metadata": {},
   "source": []
  },
  {
   "cell_type": "code",
   "execution_count": 93,
   "metadata": {},
   "outputs": [],
   "source": [
    "import io\n",
    "\n",
    "with io.open('Arrhythmia_MLR/attributes.names', mode='r', encoding='utf-8') as f:\n",
    "    lines = f.readlines()\n",
    "lines = [line.strip() for line in lines]\n",
    "attributes=[]\n",
    "for attr in lines:\n",
    "    indexs=[int(s) for s in attr.split() if s.isdigit()]\n",
    "    if(len(indexs)==1):\n",
    "        words=attr.split(\" \")\n",
    "        attributes.append(words[1])\n",
    "    elif(len(indexs)==2):\n",
    "       words=attr.split(\" \")\n",
    "       for i in range(1+indexs[1]-indexs[0]):\n",
    "           attributes.append(words[3]+\"_\"+str(i))\n",
    "     \n",
    "categorical_data=[\"Sex\",\"Existence_of_diphasic_derivation_of_P_wave\",\"Existence_of_diphasic_derivation_of_R_wave\",\n",
    "                  \"Existence_of_diphasic_derivation_of_T_wave\",\"Existence_of_ragged_P_wave\",\n",
    "                  \"Existence_of_ragged_R_wave\",\"Existence_of_ragged_T_wave\"]\n",
    "\n",
    "data_info_root=\"Arrhythmia_MLR/data_info/\""
   ]
  },
  {
   "cell_type": "code",
   "execution_count": 94,
   "metadata": {},
   "outputs": [],
   "source": [
    "\n",
    "data = pd.read_csv('Arrhythmia_MLR/arrhythmia.data', header=None, delimiter=',', names=attributes)"
   ]
  },
  {
   "cell_type": "code",
   "execution_count": 95,
   "metadata": {},
   "outputs": [
    {
     "data": {
      "text/html": [
       "<div>\n",
       "<style scoped>\n",
       "    .dataframe tbody tr th:only-of-type {\n",
       "        vertical-align: middle;\n",
       "    }\n",
       "\n",
       "    .dataframe tbody tr th {\n",
       "        vertical-align: top;\n",
       "    }\n",
       "\n",
       "    .dataframe thead th {\n",
       "        text-align: right;\n",
       "    }\n",
       "</style>\n",
       "<table border=\"1\" class=\"dataframe\">\n",
       "  <thead>\n",
       "    <tr style=\"text-align: right;\">\n",
       "      <th></th>\n",
       "      <th>Age</th>\n",
       "      <th>Sex</th>\n",
       "      <th>Height</th>\n",
       "      <th>Weight</th>\n",
       "      <th>QRS_duration</th>\n",
       "      <th>P-R_interval</th>\n",
       "      <th>Q-T_interval</th>\n",
       "      <th>T_interval</th>\n",
       "      <th>P_interval</th>\n",
       "      <th>QRS</th>\n",
       "      <th>...</th>\n",
       "      <th>V6_2_1</th>\n",
       "      <th>V6_2_2</th>\n",
       "      <th>V6_2_3</th>\n",
       "      <th>V6_2_4</th>\n",
       "      <th>V6_2_5</th>\n",
       "      <th>V6_2_6</th>\n",
       "      <th>V6_2_7</th>\n",
       "      <th>V6_2_8</th>\n",
       "      <th>V6_2_9</th>\n",
       "      <th>sicknes</th>\n",
       "    </tr>\n",
       "  </thead>\n",
       "  <tbody>\n",
       "    <tr>\n",
       "      <th>0</th>\n",
       "      <td>75</td>\n",
       "      <td>0</td>\n",
       "      <td>190</td>\n",
       "      <td>80</td>\n",
       "      <td>91</td>\n",
       "      <td>193</td>\n",
       "      <td>371</td>\n",
       "      <td>174</td>\n",
       "      <td>121</td>\n",
       "      <td>-16</td>\n",
       "      <td>...</td>\n",
       "      <td>0.0</td>\n",
       "      <td>9.0</td>\n",
       "      <td>-0.9</td>\n",
       "      <td>0.0</td>\n",
       "      <td>0.0</td>\n",
       "      <td>0.9</td>\n",
       "      <td>2.9</td>\n",
       "      <td>23.3</td>\n",
       "      <td>49.4</td>\n",
       "      <td>8</td>\n",
       "    </tr>\n",
       "    <tr>\n",
       "      <th>1</th>\n",
       "      <td>56</td>\n",
       "      <td>1</td>\n",
       "      <td>165</td>\n",
       "      <td>64</td>\n",
       "      <td>81</td>\n",
       "      <td>174</td>\n",
       "      <td>401</td>\n",
       "      <td>149</td>\n",
       "      <td>39</td>\n",
       "      <td>25</td>\n",
       "      <td>...</td>\n",
       "      <td>0.0</td>\n",
       "      <td>8.5</td>\n",
       "      <td>0.0</td>\n",
       "      <td>0.0</td>\n",
       "      <td>0.0</td>\n",
       "      <td>0.2</td>\n",
       "      <td>2.1</td>\n",
       "      <td>20.4</td>\n",
       "      <td>38.8</td>\n",
       "      <td>6</td>\n",
       "    </tr>\n",
       "    <tr>\n",
       "      <th>2</th>\n",
       "      <td>54</td>\n",
       "      <td>0</td>\n",
       "      <td>172</td>\n",
       "      <td>95</td>\n",
       "      <td>138</td>\n",
       "      <td>163</td>\n",
       "      <td>386</td>\n",
       "      <td>185</td>\n",
       "      <td>102</td>\n",
       "      <td>96</td>\n",
       "      <td>...</td>\n",
       "      <td>0.0</td>\n",
       "      <td>9.5</td>\n",
       "      <td>-2.4</td>\n",
       "      <td>0.0</td>\n",
       "      <td>0.0</td>\n",
       "      <td>0.3</td>\n",
       "      <td>3.4</td>\n",
       "      <td>12.3</td>\n",
       "      <td>49.0</td>\n",
       "      <td>10</td>\n",
       "    </tr>\n",
       "    <tr>\n",
       "      <th>3</th>\n",
       "      <td>55</td>\n",
       "      <td>0</td>\n",
       "      <td>175</td>\n",
       "      <td>94</td>\n",
       "      <td>100</td>\n",
       "      <td>202</td>\n",
       "      <td>380</td>\n",
       "      <td>179</td>\n",
       "      <td>143</td>\n",
       "      <td>28</td>\n",
       "      <td>...</td>\n",
       "      <td>0.0</td>\n",
       "      <td>12.2</td>\n",
       "      <td>-2.2</td>\n",
       "      <td>0.0</td>\n",
       "      <td>0.0</td>\n",
       "      <td>0.4</td>\n",
       "      <td>2.6</td>\n",
       "      <td>34.6</td>\n",
       "      <td>61.6</td>\n",
       "      <td>1</td>\n",
       "    </tr>\n",
       "    <tr>\n",
       "      <th>4</th>\n",
       "      <td>75</td>\n",
       "      <td>0</td>\n",
       "      <td>190</td>\n",
       "      <td>80</td>\n",
       "      <td>88</td>\n",
       "      <td>181</td>\n",
       "      <td>360</td>\n",
       "      <td>177</td>\n",
       "      <td>103</td>\n",
       "      <td>-16</td>\n",
       "      <td>...</td>\n",
       "      <td>0.0</td>\n",
       "      <td>13.1</td>\n",
       "      <td>-3.6</td>\n",
       "      <td>0.0</td>\n",
       "      <td>0.0</td>\n",
       "      <td>-0.1</td>\n",
       "      <td>3.9</td>\n",
       "      <td>25.4</td>\n",
       "      <td>62.8</td>\n",
       "      <td>7</td>\n",
       "    </tr>\n",
       "  </tbody>\n",
       "</table>\n",
       "<p>5 rows × 280 columns</p>\n",
       "</div>"
      ],
      "text/plain": [
       "   Age  Sex  Height  Weight  QRS_duration  P-R_interval  Q-T_interval  \\\n",
       "0   75    0     190      80            91           193           371   \n",
       "1   56    1     165      64            81           174           401   \n",
       "2   54    0     172      95           138           163           386   \n",
       "3   55    0     175      94           100           202           380   \n",
       "4   75    0     190      80            88           181           360   \n",
       "\n",
       "   T_interval  P_interval  QRS  ... V6_2_1 V6_2_2 V6_2_3 V6_2_4 V6_2_5  \\\n",
       "0         174         121  -16  ...    0.0    9.0   -0.9    0.0    0.0   \n",
       "1         149          39   25  ...    0.0    8.5    0.0    0.0    0.0   \n",
       "2         185         102   96  ...    0.0    9.5   -2.4    0.0    0.0   \n",
       "3         179         143   28  ...    0.0   12.2   -2.2    0.0    0.0   \n",
       "4         177         103  -16  ...    0.0   13.1   -3.6    0.0    0.0   \n",
       "\n",
       "   V6_2_6  V6_2_7  V6_2_8  V6_2_9  sicknes  \n",
       "0     0.9     2.9    23.3    49.4        8  \n",
       "1     0.2     2.1    20.4    38.8        6  \n",
       "2     0.3     3.4    12.3    49.0       10  \n",
       "3     0.4     2.6    34.6    61.6        1  \n",
       "4    -0.1     3.9    25.4    62.8        7  \n",
       "\n",
       "[5 rows x 280 columns]"
      ]
     },
     "execution_count": 95,
     "metadata": {},
     "output_type": "execute_result"
    }
   ],
   "source": [
    "data.head()"
   ]
  },
  {
   "attachments": {},
   "cell_type": "markdown",
   "metadata": {},
   "source": [
    "SPRAWDZAMY CZY SĄ GDZIE PUSTE LUKI W DANYCH"
   ]
  },
  {
   "cell_type": "code",
   "execution_count": 96,
   "metadata": {},
   "outputs": [
    {
     "data": {
      "text/plain": [
       "0"
      ]
     },
     "execution_count": 96,
     "metadata": {},
     "output_type": "execute_result"
    }
   ],
   "source": [
    "data_null_sum=data.isnull().sum()\n",
    "data_null_sum.to_csv(data_info_root+\"data_null_sum.csv\")\n",
    "data_null_sum=data_null_sum.sum()\n",
    "data_null_sum\n",
    "#jak widac nigdzie nie brakuje danych w postaci pustej komórki"
   ]
  },
  {
   "cell_type": "code",
   "execution_count": 97,
   "metadata": {},
   "outputs": [
    {
     "data": {
      "text/plain": [
       "[['T', array([ 66,  91, 200, 212, 238, 360, 372, 412])],\n",
       " ['P',\n",
       "  array([ 54,  59, 106, 108, 116, 133, 174, 177, 193, 204, 217, 219, 243,\n",
       "         253, 279, 284, 298, 300, 308, 310, 350, 420])],\n",
       " ['QRST', array([241])],\n",
       " ['J',\n",
       "  array([  0,   1,   3,   4,   5,   6,   7,   9,  10,  11,  12,  13,  14,\n",
       "          15,  16,  17,  18,  19,  20,  21,  22,  23,  24,  25,  26,  27,\n",
       "          28,  30,  31,  32,  33,  34,  35,  36,  37,  38,  39,  40,  41,\n",
       "          42,  43,  44,  45,  46,  47,  48,  49,  50,  51,  52,  53,  54,\n",
       "          55,  57,  58,  59,  60,  61,  62,  63,  64,  65,  66,  67,  68,\n",
       "          69,  70,  72,  73,  74,  75,  76,  77,  78,  79,  80,  81,  82,\n",
       "          83,  84,  87,  90,  91,  92,  94,  95,  96,  97,  98, 100, 101,\n",
       "         102, 103, 104, 105, 106, 107, 109, 110, 111, 113, 114, 115, 116,\n",
       "         117, 118, 119, 121, 122, 123, 124, 125, 126, 127, 128, 129, 130,\n",
       "         131, 132, 134, 135, 136, 137, 139, 140, 141, 142, 143, 144, 145,\n",
       "         146, 147, 148, 149, 150, 151, 152, 153, 154, 155, 156, 157, 159,\n",
       "         160, 161, 162, 163, 164, 165, 166, 167, 168, 169, 171, 172, 173,\n",
       "         176, 177, 178, 179, 180, 181, 182, 183, 184, 185, 186, 190, 191,\n",
       "         192, 193, 194, 195, 196, 197, 199, 200, 201, 203, 204, 205, 206,\n",
       "         210, 211, 212, 214, 215, 216, 218, 219, 220, 221, 222, 223, 224,\n",
       "         225, 226, 227, 228, 229, 230, 231, 232, 233, 234, 236, 238, 240,\n",
       "         242, 243, 244, 245, 246, 247, 248, 249, 250, 251, 255, 257, 258,\n",
       "         259, 261, 262, 263, 264, 265, 266, 267, 268, 269, 270, 271, 272,\n",
       "         273, 274, 275, 276, 277, 278, 279, 280, 281, 282, 283, 284, 286,\n",
       "         287, 288, 289, 290, 292, 293, 294, 298, 299, 301, 302, 303, 304,\n",
       "         305, 306, 307, 309, 310, 311, 312, 313, 314, 315, 316, 317, 318,\n",
       "         320, 321, 325, 326, 327, 329, 330, 331, 332, 333, 335, 336, 337,\n",
       "         338, 339, 340, 341, 342, 343, 344, 345, 346, 347, 348, 349, 350,\n",
       "         351, 353, 355, 358, 360, 361, 362, 363, 364, 365, 369, 371, 372,\n",
       "         373, 374, 375, 377, 378, 379, 381, 382, 383, 384, 385, 386, 387,\n",
       "         390, 391, 392, 393, 394, 396, 397, 399, 400, 401, 402, 405, 406,\n",
       "         407, 408, 409, 411, 412, 413, 414, 415, 416, 417, 418, 419, 420,\n",
       "         421, 422, 423, 425, 427, 428, 429, 431, 432, 433, 434, 435, 436,\n",
       "         437, 438, 439, 441, 442, 443, 444, 445, 446, 447, 448, 451])],\n",
       " ['Heart_rate', array([4])]]"
      ]
     },
     "execution_count": 97,
     "metadata": {},
     "output_type": "execute_result"
    }
   ],
   "source": [
    "missing_values=[]\n",
    "missing_values_status=[]\n",
    "for attr in data.columns:\n",
    "    misval=np.where(data[attr]=='?')\n",
    "    missing_values_status.append([attr,misval[0]])\n",
    "    if(len(misval[0])!=0):\n",
    "        missing_values.append([attr,misval[0]])\n",
    "pd.DataFrame(missing_values_status).to_csv(data_info_root+\"data_missing_val.csv\",header=False)\n",
    "missing_values # puste wartosci przedstawione przy postaci znaku '?'\n"
   ]
  },
  {
   "attachments": {},
   "cell_type": "markdown",
   "metadata": {},
   "source": [
    "Sprawdzenie w jakim procencie danych brakuje wartosci"
   ]
  },
  {
   "cell_type": "code",
   "execution_count": 98,
   "metadata": {},
   "outputs": [
    {
     "name": "stdout",
     "output_type": "stream",
     "text": [
      "T długość 8 procent wartosci: 0.017699115044247787\n",
      "P długość 22 procent wartosci: 0.048672566371681415\n",
      "QRST długość 1 procent wartosci: 0.0022123893805309734\n",
      "J długość 376 procent wartosci: 0.831858407079646\n",
      "Heart_rate długość 1 procent wartosci: 0.0022123893805309734\n"
     ]
    }
   ],
   "source": [
    "for misval in missing_values:\n",
    "    print(misval[0],\"długość\",len(misval[1]),\"procent wartosci:\",len(misval[1])/len(data))"
   ]
  },
  {
   "attachments": {},
   "cell_type": "markdown",
   "metadata": {},
   "source": [
    "Usuniesie kolumny J i sprawdzenie drugi raz brakujacych wartosci"
   ]
  },
  {
   "cell_type": "code",
   "execution_count": 99,
   "metadata": {},
   "outputs": [],
   "source": [
    "#usuwamy wartosc J gdyz brakuje w niej ponad 83 procent danych\n",
    "data=data.drop(columns='J',axis=1)\n",
    "\n"
   ]
  },
  {
   "cell_type": "code",
   "execution_count": 100,
   "metadata": {},
   "outputs": [
    {
     "data": {
      "text/plain": [
       "[['T', array([ 66,  91, 200, 212, 238, 360, 372, 412])],\n",
       " ['P',\n",
       "  array([ 54,  59, 106, 108, 116, 133, 174, 177, 193, 204, 217, 219, 243,\n",
       "         253, 279, 284, 298, 300, 308, 310, 350, 420])],\n",
       " ['QRST', array([241])],\n",
       " ['Heart_rate', array([4])]]"
      ]
     },
     "execution_count": 100,
     "metadata": {},
     "output_type": "execute_result"
    }
   ],
   "source": [
    "\n",
    "\n",
    "missing_values=[]\n",
    "missing_values_status=[]\n",
    "for attr in data.columns:\n",
    "    misval=np.where(data[attr]=='?')\n",
    "    missing_values_status.append([attr,misval[0]])\n",
    "    if(len(misval[0])!=0):\n",
    "        missing_values.append([attr,misval[0]])\n",
    "pd.DataFrame(missing_values_status).to_csv(data_info_root+\"data_missing_val.csv\",header=False)\n",
    "missing_values # puste wartosci przedstawione przy postaci znaku '?'"
   ]
  },
  {
   "attachments": {},
   "cell_type": "markdown",
   "metadata": {},
   "source": [
    "Sprawdzamy jakie klasy chorob dla jakiej cechy są powinny być obliczane"
   ]
  },
  {
   "cell_type": "code",
   "execution_count": 101,
   "metadata": {},
   "outputs": [
    {
     "data": {
      "text/plain": [
       "{1, 2, 3, 4, 6, 7, 10, 15, 16}"
      ]
     },
     "execution_count": 101,
     "metadata": {},
     "output_type": "execute_result"
    }
   ],
   "source": [
    "sicknes_data=[]\n",
    "sicknes_types=[]\n",
    "for misval in missing_values:\n",
    "    for col in misval[1]:\n",
    "        sicknes_data.append([misval[0],data[\"sicknes\"][col],col])\n",
    "        sicknes_types.append(data[\"sicknes\"][col])\n",
    "set(sicknes_types)"
   ]
  },
  {
   "attachments": {},
   "cell_type": "markdown",
   "metadata": {},
   "source": [
    "Wypisujemy te cechy i ich klasy chorob dla których dane wpisujemy z srednich oraz te które wpisujemy recznie"
   ]
  },
  {
   "cell_type": "code",
   "execution_count": 102,
   "metadata": {},
   "outputs": [],
   "source": [
    "mean_data=[]\n",
    "manual_data=[]\n",
    "for dt in sicknes_data:\n",
    "    if(dt[1]!=3 and dt[1]!=4 and dt[1]!=7 and dt[1]!=15):\n",
    "        mean_data.append(dt)\n",
    "    else:\n",
    "        manual_data.append(dt)"
   ]
  },
  {
   "cell_type": "code",
   "execution_count": 103,
   "metadata": {},
   "outputs": [
    {
     "name": "stdout",
     "output_type": "stream",
     "text": [
      "[['T', 4, 91], ['P', 15, 174], ['P', 3, 204], ['P', 15, 217], ['P', 15, 243], ['P', 3, 253], ['P', 15, 300], ['P', 15, 420], ['Heart_rate', 7, 4]]\n"
     ]
    }
   ],
   "source": [
    "print(manual_data)"
   ]
  },
  {
   "cell_type": "code",
   "execution_count": 104,
   "metadata": {},
   "outputs": [
    {
     "data": {
      "text/plain": [
       "[['T', 2, 66],\n",
       " ['T', 2, 200],\n",
       " ['T', 2, 212],\n",
       " ['T', 1, 238],\n",
       " ['T', 2, 360],\n",
       " ['T', 2, 372],\n",
       " ['T', 16, 412],\n",
       " ['P', 16, 54],\n",
       " ['P', 1, 59],\n",
       " ['P', 6, 106],\n",
       " ['P', 2, 108],\n",
       " ['P', 16, 116],\n",
       " ['P', 1, 133],\n",
       " ['P', 1, 177],\n",
       " ['P', 2, 193],\n",
       " ['P', 16, 219],\n",
       " ['P', 1, 279],\n",
       " ['P', 10, 284],\n",
       " ['P', 10, 298],\n",
       " ['P', 2, 308],\n",
       " ['P', 1, 310],\n",
       " ['P', 1, 350],\n",
       " ['QRST', 1, 241]]"
      ]
     },
     "execution_count": 104,
     "metadata": {},
     "output_type": "execute_result"
    }
   ],
   "source": [
    "mean_data"
   ]
  },
  {
   "cell_type": "code",
   "execution_count": 105,
   "metadata": {},
   "outputs": [],
   "source": [
    "\n",
    "def get_mean(data,label,sicknes):\n",
    "    idxs=data.loc[data[\"sicknes\"]==sicknes].index\n",
    "    arr_mean=[]\n",
    "    for i in idxs:\n",
    "        if data[label][i]!='?':\n",
    "            arr_mean.append(data[label][i])\n",
    "    return np.mean(np.array(arr_mean).astype(float))\n"
   ]
  },
  {
   "cell_type": "code",
   "execution_count": 106,
   "metadata": {},
   "outputs": [
    {
     "name": "stderr",
     "output_type": "stream",
     "text": [
      "/tmp/ipykernel_3263/3856677013.py:2: SettingWithCopyWarning: \n",
      "A value is trying to be set on a copy of a slice from a DataFrame\n",
      "\n",
      "See the caveats in the documentation: https://pandas.pydata.org/pandas-docs/stable/user_guide/indexing.html#returning-a-view-versus-a-copy\n",
      "  data[mdata[0]][mdata[2]]=get_mean(data,mdata[0],mdata[1])\n"
     ]
    }
   ],
   "source": [
    "for mdata in mean_data:\n",
    "    data[mdata[0]][mdata[2]]=get_mean(data,mdata[0],mdata[1])"
   ]
  },
  {
   "cell_type": "code",
   "execution_count": 107,
   "metadata": {},
   "outputs": [],
   "source": [
    "def get_arr_mean(data,label,sicknes):\n",
    "    idxs=data.loc[data[\"sicknes\"]==sicknes].index\n",
    "    arr_mean=[]\n",
    "    for i in idxs:\n",
    "        if data[label][i]!='?':\n",
    "            arr_mean.append(data[label][i])\n",
    "    return arr_mean\n"
   ]
  },
  {
   "cell_type": "code",
   "execution_count": 108,
   "metadata": {},
   "outputs": [
    {
     "name": "stdout",
     "output_type": "stream",
     "text": [
      "T 4 ['46', '60', '87', '15', '-8', '38', '104', '-75', '114', '-49', '137', '66', '-42', '51']\n",
      "P 15 []\n",
      "P 3 ['68', '37', '43', '71', '68', '36', '50', '59', '39', '14', '72', '30', '26']\n",
      "P 15 []\n",
      "P 15 []\n",
      "P 3 ['68', '37', '43', '71', '68', '36', '50', '59', '39', '14', '72', '30', '26']\n",
      "P 15 []\n",
      "P 15 []\n",
      "Heart_rate 7 ['86', '63']\n"
     ]
    }
   ],
   "source": [
    "for mdata in manual_data:\n",
    "    print(mdata[0],mdata[1],get_arr_mean(data,mdata[0],mdata[1]))"
   ]
  },
  {
   "attachments": {},
   "cell_type": "markdown",
   "metadata": {},
   "source": [
    "Dla klasy choroby 7 czyli Ventricular Premature Contraction (PVC) heart_rate waha sie od 60-100 wiec umieszczam wartosc (86+63)/2 zostanie wpisana "
   ]
  },
  {
   "cell_type": "code",
   "execution_count": 109,
   "metadata": {},
   "outputs": [
    {
     "name": "stderr",
     "output_type": "stream",
     "text": [
      "/tmp/ipykernel_3263/3838345569.py:1: SettingWithCopyWarning: \n",
      "A value is trying to be set on a copy of a slice from a DataFrame\n",
      "\n",
      "See the caveats in the documentation: https://pandas.pydata.org/pandas-docs/stable/user_guide/indexing.html#returning-a-view-versus-a-copy\n",
      "  data[\"Heart_rate\"][4]=(86+63)/2\n",
      "/tmp/ipykernel_3263/3838345569.py:3: SettingWithCopyWarning: \n",
      "A value is trying to be set on a copy of a slice from a DataFrame\n",
      "\n",
      "See the caveats in the documentation: https://pandas.pydata.org/pandas-docs/stable/user_guide/indexing.html#returning-a-view-versus-a-copy\n",
      "  data[\"T\"][91]=get_mean(data,manual_data[0][0],manual_data[0][1])\n"
     ]
    },
    {
     "data": {
      "text/plain": [
       "-0.0923812218060448"
      ]
     },
     "execution_count": 109,
     "metadata": {},
     "output_type": "execute_result"
    }
   ],
   "source": [
    "data[\"Heart_rate\"][4]=(86+63)/2\n",
    "\n",
    "data[\"T\"][91]=get_mean(data,manual_data[0][0],manual_data[0][1])\n",
    "\n",
    "DATA\n",
    "\n",
    "data[\"sicknes\"].corr(data[\"Age\"])"
   ]
  },
  {
   "attachments": {},
   "cell_type": "markdown",
   "metadata": {},
   "source": [
    "Sprawdzenie z zmodyfikowanie formatu danych"
   ]
  },
  {
   "cell_type": "code",
   "execution_count": 110,
   "metadata": {},
   "outputs": [
    {
     "name": "stdout",
     "output_type": "stream",
     "text": [
      "Age               int64\n",
      "Sex               int64\n",
      "Height            int64\n",
      "Weight            int64\n",
      "QRS_duration      int64\n",
      "                 ...   \n",
      "V6_2_6          float64\n",
      "V6_2_7          float64\n",
      "V6_2_8          float64\n",
      "V6_2_9          float64\n",
      "sicknes           int64\n",
      "Length: 279, dtype: object\n"
     ]
    }
   ],
   "source": [
    "print(data.dtypes)\n",
    "pd.DataFrame(data.dtypes).to_csv(data_info_root+\"data_types.csv\")"
   ]
  },
  {
   "cell_type": "code",
   "execution_count": 111,
   "metadata": {},
   "outputs": [
    {
     "ename": "ValueError",
     "evalue": "could not convert string to float: '?'",
     "output_type": "error",
     "traceback": [
      "\u001b[0;31m---------------------------------------------------------------------------\u001b[0m",
      "\u001b[0;31mValueError\u001b[0m                                Traceback (most recent call last)",
      "\u001b[1;32m/home/dawid/Desktop/Programing and other/GITHUB/Simple_Neural_Network/data_processing.ipynb Cell 28\u001b[0m in \u001b[0;36m3\n\u001b[1;32m      <a href='vscode-notebook-cell:/home/dawid/Desktop/Programing%20and%20other/GITHUB/Simple_Neural_Network/data_processing.ipynb#X34sZmlsZQ%3D%3D?line=0'>1</a>\u001b[0m \u001b[39mfor\u001b[39;00m column \u001b[39min\u001b[39;00m data\u001b[39m.\u001b[39mcolumns:\n\u001b[1;32m      <a href='vscode-notebook-cell:/home/dawid/Desktop/Programing%20and%20other/GITHUB/Simple_Neural_Network/data_processing.ipynb#X34sZmlsZQ%3D%3D?line=1'>2</a>\u001b[0m     \u001b[39mif\u001b[39;00m(data[column]\u001b[39m.\u001b[39mdtype\u001b[39m==\u001b[39m\u001b[39mobject\u001b[39m):\n\u001b[0;32m----> <a href='vscode-notebook-cell:/home/dawid/Desktop/Programing%20and%20other/GITHUB/Simple_Neural_Network/data_processing.ipynb#X34sZmlsZQ%3D%3D?line=2'>3</a>\u001b[0m         data[column]\u001b[39m=\u001b[39mdata[column]\u001b[39m.\u001b[39;49mastype(\u001b[39mfloat\u001b[39;49m)\n\u001b[1;32m      <a href='vscode-notebook-cell:/home/dawid/Desktop/Programing%20and%20other/GITHUB/Simple_Neural_Network/data_processing.ipynb#X34sZmlsZQ%3D%3D?line=3'>4</a>\u001b[0m \u001b[39mprint\u001b[39m(data\u001b[39m.\u001b[39mdtypes)\n\u001b[1;32m      <a href='vscode-notebook-cell:/home/dawid/Desktop/Programing%20and%20other/GITHUB/Simple_Neural_Network/data_processing.ipynb#X34sZmlsZQ%3D%3D?line=6'>7</a>\u001b[0m pd\u001b[39m.\u001b[39mDataFrame(data\u001b[39m.\u001b[39mdtypes)\u001b[39m.\u001b[39mto_csv(data_info_root\u001b[39m+\u001b[39m\u001b[39m\"\u001b[39m\u001b[39mdata_types_changed.csv\u001b[39m\u001b[39m\"\u001b[39m)\n",
      "File \u001b[0;32m~/.local/lib/python3.8/site-packages/pandas/core/generic.py:5912\u001b[0m, in \u001b[0;36mNDFrame.astype\u001b[0;34m(self, dtype, copy, errors)\u001b[0m\n\u001b[1;32m   5905\u001b[0m     results \u001b[39m=\u001b[39m [\n\u001b[1;32m   5906\u001b[0m         \u001b[39mself\u001b[39m\u001b[39m.\u001b[39miloc[:, i]\u001b[39m.\u001b[39mastype(dtype, copy\u001b[39m=\u001b[39mcopy)\n\u001b[1;32m   5907\u001b[0m         \u001b[39mfor\u001b[39;00m i \u001b[39min\u001b[39;00m \u001b[39mrange\u001b[39m(\u001b[39mlen\u001b[39m(\u001b[39mself\u001b[39m\u001b[39m.\u001b[39mcolumns))\n\u001b[1;32m   5908\u001b[0m     ]\n\u001b[1;32m   5910\u001b[0m \u001b[39melse\u001b[39;00m:\n\u001b[1;32m   5911\u001b[0m     \u001b[39m# else, only a single dtype is given\u001b[39;00m\n\u001b[0;32m-> 5912\u001b[0m     new_data \u001b[39m=\u001b[39m \u001b[39mself\u001b[39;49m\u001b[39m.\u001b[39;49m_mgr\u001b[39m.\u001b[39;49mastype(dtype\u001b[39m=\u001b[39;49mdtype, copy\u001b[39m=\u001b[39;49mcopy, errors\u001b[39m=\u001b[39;49merrors)\n\u001b[1;32m   5913\u001b[0m     \u001b[39mreturn\u001b[39;00m \u001b[39mself\u001b[39m\u001b[39m.\u001b[39m_constructor(new_data)\u001b[39m.\u001b[39m__finalize__(\u001b[39mself\u001b[39m, method\u001b[39m=\u001b[39m\u001b[39m\"\u001b[39m\u001b[39mastype\u001b[39m\u001b[39m\"\u001b[39m)\n\u001b[1;32m   5915\u001b[0m \u001b[39m# GH 33113: handle empty frame or series\u001b[39;00m\n",
      "File \u001b[0;32m~/.local/lib/python3.8/site-packages/pandas/core/internals/managers.py:419\u001b[0m, in \u001b[0;36mBaseBlockManager.astype\u001b[0;34m(self, dtype, copy, errors)\u001b[0m\n\u001b[1;32m    418\u001b[0m \u001b[39mdef\u001b[39;00m \u001b[39mastype\u001b[39m(\u001b[39mself\u001b[39m: T, dtype, copy: \u001b[39mbool\u001b[39m \u001b[39m=\u001b[39m \u001b[39mFalse\u001b[39;00m, errors: \u001b[39mstr\u001b[39m \u001b[39m=\u001b[39m \u001b[39m\"\u001b[39m\u001b[39mraise\u001b[39m\u001b[39m\"\u001b[39m) \u001b[39m-\u001b[39m\u001b[39m>\u001b[39m T:\n\u001b[0;32m--> 419\u001b[0m     \u001b[39mreturn\u001b[39;00m \u001b[39mself\u001b[39;49m\u001b[39m.\u001b[39;49mapply(\u001b[39m\"\u001b[39;49m\u001b[39mastype\u001b[39;49m\u001b[39m\"\u001b[39;49m, dtype\u001b[39m=\u001b[39;49mdtype, copy\u001b[39m=\u001b[39;49mcopy, errors\u001b[39m=\u001b[39;49merrors)\n",
      "File \u001b[0;32m~/.local/lib/python3.8/site-packages/pandas/core/internals/managers.py:304\u001b[0m, in \u001b[0;36mBaseBlockManager.apply\u001b[0;34m(self, f, align_keys, ignore_failures, **kwargs)\u001b[0m\n\u001b[1;32m    302\u001b[0m         applied \u001b[39m=\u001b[39m b\u001b[39m.\u001b[39mapply(f, \u001b[39m*\u001b[39m\u001b[39m*\u001b[39mkwargs)\n\u001b[1;32m    303\u001b[0m     \u001b[39melse\u001b[39;00m:\n\u001b[0;32m--> 304\u001b[0m         applied \u001b[39m=\u001b[39m \u001b[39mgetattr\u001b[39;49m(b, f)(\u001b[39m*\u001b[39;49m\u001b[39m*\u001b[39;49mkwargs)\n\u001b[1;32m    305\u001b[0m \u001b[39mexcept\u001b[39;00m (\u001b[39mTypeError\u001b[39;00m, \u001b[39mNotImplementedError\u001b[39;00m):\n\u001b[1;32m    306\u001b[0m     \u001b[39mif\u001b[39;00m \u001b[39mnot\u001b[39;00m ignore_failures:\n",
      "File \u001b[0;32m~/.local/lib/python3.8/site-packages/pandas/core/internals/blocks.py:580\u001b[0m, in \u001b[0;36mBlock.astype\u001b[0;34m(self, dtype, copy, errors)\u001b[0m\n\u001b[1;32m    562\u001b[0m \u001b[39m\"\"\"\u001b[39;00m\n\u001b[1;32m    563\u001b[0m \u001b[39mCoerce to the new dtype.\u001b[39;00m\n\u001b[1;32m    564\u001b[0m \n\u001b[0;32m   (...)\u001b[0m\n\u001b[1;32m    576\u001b[0m \u001b[39mBlock\u001b[39;00m\n\u001b[1;32m    577\u001b[0m \u001b[39m\"\"\"\u001b[39;00m\n\u001b[1;32m    578\u001b[0m values \u001b[39m=\u001b[39m \u001b[39mself\u001b[39m\u001b[39m.\u001b[39mvalues\n\u001b[0;32m--> 580\u001b[0m new_values \u001b[39m=\u001b[39m astype_array_safe(values, dtype, copy\u001b[39m=\u001b[39;49mcopy, errors\u001b[39m=\u001b[39;49merrors)\n\u001b[1;32m    582\u001b[0m new_values \u001b[39m=\u001b[39m maybe_coerce_values(new_values)\n\u001b[1;32m    583\u001b[0m newb \u001b[39m=\u001b[39m \u001b[39mself\u001b[39m\u001b[39m.\u001b[39mmake_block(new_values)\n",
      "File \u001b[0;32m~/.local/lib/python3.8/site-packages/pandas/core/dtypes/cast.py:1292\u001b[0m, in \u001b[0;36mastype_array_safe\u001b[0;34m(values, dtype, copy, errors)\u001b[0m\n\u001b[1;32m   1289\u001b[0m     dtype \u001b[39m=\u001b[39m dtype\u001b[39m.\u001b[39mnumpy_dtype\n\u001b[1;32m   1291\u001b[0m \u001b[39mtry\u001b[39;00m:\n\u001b[0;32m-> 1292\u001b[0m     new_values \u001b[39m=\u001b[39m astype_array(values, dtype, copy\u001b[39m=\u001b[39;49mcopy)\n\u001b[1;32m   1293\u001b[0m \u001b[39mexcept\u001b[39;00m (\u001b[39mValueError\u001b[39;00m, \u001b[39mTypeError\u001b[39;00m):\n\u001b[1;32m   1294\u001b[0m     \u001b[39m# e.g. astype_nansafe can fail on object-dtype of strings\u001b[39;00m\n\u001b[1;32m   1295\u001b[0m     \u001b[39m#  trying to convert to float\u001b[39;00m\n\u001b[1;32m   1296\u001b[0m     \u001b[39mif\u001b[39;00m errors \u001b[39m==\u001b[39m \u001b[39m\"\u001b[39m\u001b[39mignore\u001b[39m\u001b[39m\"\u001b[39m:\n",
      "File \u001b[0;32m~/.local/lib/python3.8/site-packages/pandas/core/dtypes/cast.py:1237\u001b[0m, in \u001b[0;36mastype_array\u001b[0;34m(values, dtype, copy)\u001b[0m\n\u001b[1;32m   1234\u001b[0m     values \u001b[39m=\u001b[39m values\u001b[39m.\u001b[39mastype(dtype, copy\u001b[39m=\u001b[39mcopy)\n\u001b[1;32m   1236\u001b[0m \u001b[39melse\u001b[39;00m:\n\u001b[0;32m-> 1237\u001b[0m     values \u001b[39m=\u001b[39m astype_nansafe(values, dtype, copy\u001b[39m=\u001b[39;49mcopy)\n\u001b[1;32m   1239\u001b[0m \u001b[39m# in pandas we don't store numpy str dtypes, so convert to object\u001b[39;00m\n\u001b[1;32m   1240\u001b[0m \u001b[39mif\u001b[39;00m \u001b[39misinstance\u001b[39m(dtype, np\u001b[39m.\u001b[39mdtype) \u001b[39mand\u001b[39;00m \u001b[39missubclass\u001b[39m(values\u001b[39m.\u001b[39mdtype\u001b[39m.\u001b[39mtype, \u001b[39mstr\u001b[39m):\n",
      "File \u001b[0;32m~/.local/lib/python3.8/site-packages/pandas/core/dtypes/cast.py:1181\u001b[0m, in \u001b[0;36mastype_nansafe\u001b[0;34m(arr, dtype, copy, skipna)\u001b[0m\n\u001b[1;32m   1177\u001b[0m     \u001b[39mraise\u001b[39;00m \u001b[39mValueError\u001b[39;00m(msg)\n\u001b[1;32m   1179\u001b[0m \u001b[39mif\u001b[39;00m copy \u001b[39mor\u001b[39;00m is_object_dtype(arr\u001b[39m.\u001b[39mdtype) \u001b[39mor\u001b[39;00m is_object_dtype(dtype):\n\u001b[1;32m   1180\u001b[0m     \u001b[39m# Explicit copy, or required since NumPy can't view from / to object.\u001b[39;00m\n\u001b[0;32m-> 1181\u001b[0m     \u001b[39mreturn\u001b[39;00m arr\u001b[39m.\u001b[39;49mastype(dtype, copy\u001b[39m=\u001b[39;49m\u001b[39mTrue\u001b[39;49;00m)\n\u001b[1;32m   1183\u001b[0m \u001b[39mreturn\u001b[39;00m arr\u001b[39m.\u001b[39mastype(dtype, copy\u001b[39m=\u001b[39mcopy)\n",
      "\u001b[0;31mValueError\u001b[0m: could not convert string to float: '?'"
     ]
    }
   ],
   "source": [
    "for column in data.columns:\n",
    "    if(data[column].dtype==object):\n",
    "        data[column]=data[column].astype(float)\n",
    "print(data.dtypes)\n",
    "\n",
    "\n",
    "pd.DataFrame(data.dtypes).to_csv(data_info_root+\"data_types_changed.csv\")"
   ]
  },
  {
   "attachments": {},
   "cell_type": "markdown",
   "metadata": {},
   "source": [
    "ANALIZA DANYCH"
   ]
  },
  {
   "cell_type": "code",
   "execution_count": null,
   "metadata": {},
   "outputs": [],
   "source": [
    "def create_histograms(n_vertical,n_horizontal,fig_size,dataset,titles,xlabel,ylabel,n_bins):\n",
    "    fig,axs=fig,axs=plt.subplots(n_vertical,n_horizontal,figsize=fig_size)\n",
    "    i=0\n",
    "    \n",
    "    for axr in axs:\n",
    "        for ax in axr:\n",
    "            if(i !=len(dataset)):\n",
    "                ax.hist(dataset[i],n_bins[i])\n",
    "                ax.set_title(titles[i])\n",
    "                ax.set_xlabel(xlabel[i])\n",
    "                ax.set_ylabel(ylabel[i])\n",
    "                i+=1"
   ]
  },
  {
   "cell_type": "code",
   "execution_count": null,
   "metadata": {},
   "outputs": [
    {
     "data": {
      "text/plain": [
       "1     245\n",
       "10     50\n",
       "2      44\n",
       "6      25\n",
       "16     22\n",
       "3      15\n",
       "4      15\n",
       "5      13\n",
       "9       9\n",
       "15      5\n",
       "14      4\n",
       "7       3\n",
       "8       2\n",
       "Name: sicknes, dtype: int64"
      ]
     },
     "execution_count": 422,
     "metadata": {},
     "output_type": "execute_result"
    }
   ],
   "source": [
    "\n",
    "data[\"sicknes\"].value_counts()"
   ]
  },
  {
   "cell_type": "code",
   "execution_count": null,
   "metadata": {},
   "outputs": [
    {
     "data": {
      "image/png": "[encoded data removed]",
      "text/plain": [
       "<Figure size 2000x1000 with 4 Axes>"
      ]
     },
     "metadata": {},
     "output_type": "display_data"
    }
   ],
   "source": [
    "dataset=[data[\"Age\"],data[\"Height\"],data[\"Weight\"],data[\"sicknes\"]]\n",
    "titles=[\"Age\",\"Height\",\"Weight\",\"sicknes\"]\n",
    "xlabels=[\"Age [years]\",\"height [cm]\",\"weight [kg]\",\"sicknes\"]\n",
    "ylabels=[\"number of people\" for _ in range(len(xlabels))]\n",
    "nbins=[90,200,30,16]\n",
    "figsize=[20,10]\n",
    "\n",
    "create_histograms(2,2,fig_size=figsize,dataset=dataset,titles=titles,xlabel=xlabels,ylabel=ylabels,n_bins=nbins)"
   ]
  },
  {
   "attachments": {},
   "cell_type": "markdown",
   "metadata": {},
   "source": [
    "\n",
    "USUWANIE/NAPRAWIANIA WADLIWYCH DANYCH"
   ]
  },
  {
   "cell_type": "code",
   "execution_count": null,
   "metadata": {},
   "outputs": [
    {
     "data": {
      "text/plain": [
       "['Height', [141, 316]]"
      ]
     },
     "execution_count": 424,
     "metadata": {},
     "output_type": "execute_result"
    }
   ],
   "source": [
    "def give_index_of_inccoret_values(data,column,max_val,min_val):\n",
    "    indexs=[]\n",
    "    for i,dt in enumerate(data[column]):\n",
    "        if(dt<min_val or dt>max_val):\n",
    "            indexs.append(i)\n",
    "    return [column ,indexs]\n",
    "give_index_of_inccoret_values(data,\"Height\",200,10)"
   ]
  },
  {
   "cell_type": "code",
   "execution_count": null,
   "metadata": {},
   "outputs": [
    {
     "data": {
      "text/plain": [
       "['Weight', [213]]"
      ]
     },
     "execution_count": 425,
     "metadata": {},
     "output_type": "execute_result"
    }
   ],
   "source": [
    "give_index_of_inccoret_values(data,\"Weight\",150,0)"
   ]
  },
  {
   "cell_type": "code",
   "execution_count": null,
   "metadata": {},
   "outputs": [
    {
     "data": {
      "text/plain": [
       "array([ 60, 113, 141, 198, 210, 297, 316, 320, 379, 401, 403, 424, 429])"
      ]
     },
     "execution_count": 426,
     "metadata": {},
     "output_type": "execute_result"
    }
   ],
   "source": [
    "import numpy as np\n",
    "\n",
    "def give_index_of_not_fitting_vlaue(data, threshold=3):\n",
    "    median = np.median(np.array(data))\n",
    "    deviation = np.abs(data - median)\n",
    "    median_deviation = np.median(deviation)\n",
    "    modified_z_score = 0.6745 * deviation / median_deviation if median_deviation > 0 else 0\n",
    "    indexes = np.where(modified_z_score > threshold)[0]\n",
    "    return indexes\n",
    "\n",
    "give_index_of_not_fitting_vlaue(data[\"Height\"])\n"
   ]
  },
  {
   "attachments": {},
   "cell_type": "markdown",
   "metadata": {},
   "source": [
    "Jak wyżej widac modyfikowanie danych któ©e znacznie odbiegaja od mediany nie jest koniecznie dobre, dlatego \"czasami\" lepiej jest uciąc dane które w 100% są błędne ,takie jak podaje funkcja give_index_of_inccoret_values()"
   ]
  },
  {
   "cell_type": "code",
   "execution_count": null,
   "metadata": {},
   "outputs": [],
   "source": [
    "pd.DataFrame(data).to_csv(\"better_data_type.csv\")"
   ]
  },
  {
   "cell_type": "code",
   "execution_count": null,
   "metadata": {},
   "outputs": [
    {
     "name": "stdout",
     "output_type": "stream",
     "text": [
      "Age\n",
      "Sex\n",
      "Height\n",
      "Weight\n",
      "QRS_duration\n",
      "P-R_interval\n",
      "Q-T_interval\n",
      "T_interval\n",
      "P_interval\n",
      "QRS\n",
      "T\n",
      "P\n",
      "QRST\n",
      "Heart_rate\n",
      "Q_wave\n",
      "R_wave\n",
      "S_wave\n",
      "R'_wave\n",
      "S'_wave\n",
      "Number_of_intrinsic_deflections\n",
      "Existence_of_ragged_R_wave\n",
      "Existence_of_diphasic_derivation_of_R_wave\n",
      "Existence_of_ragged_P_wave\n",
      "Existence_of_diphasic_derivation_of_P_wave\n",
      "Existence_of_ragged_T_wave\n",
      "Existence_of_diphasic_derivation_of_T_wave\n",
      "DII_0\n",
      "DII_1\n",
      "DII_2\n",
      "DII_3\n",
      "DII_4\n",
      "DII_5\n",
      "DII_6\n",
      "DII_7\n",
      "DII_8\n",
      "DII_9\n",
      "DII_10\n",
      "DII_11\n",
      "DIII_0\n",
      "DIII_1\n",
      "DIII_2\n",
      "DIII_3\n",
      "DIII_4\n",
      "DIII_5\n",
      "DIII_6\n",
      "DIII_7\n",
      "DIII_8\n",
      "DIII_9\n",
      "DIII_10\n",
      "DIII_11\n",
      "AVR_0\n",
      "AVR_1\n",
      "AVR_2\n",
      "AVR_3\n",
      "AVR_4\n",
      "AVR_5\n",
      "AVR_6\n",
      "AVR_7\n",
      "AVR_8\n",
      "AVR_9\n",
      "AVR_10\n",
      "AVR_11\n",
      "AVL_0\n",
      "AVL_1\n",
      "AVL_2\n",
      "AVL_3\n",
      "AVL_4\n",
      "AVL_5\n",
      "AVL_6\n",
      "AVL_7\n",
      "AVL_8\n",
      "AVL_9\n",
      "AVL_10\n",
      "AVL_11\n",
      "AVF_0\n",
      "AVF_1\n",
      "AVF_2\n",
      "AVF_3\n",
      "AVF_4\n",
      "AVF_5\n",
      "AVF_6\n",
      "AVF_7\n",
      "AVF_8\n",
      "AVF_9\n",
      "AVF_10\n",
      "AVF_11\n",
      "V1_0\n",
      "V1_1\n",
      "V1_2\n",
      "V1_3\n",
      "V1_4\n",
      "V1_5\n",
      "V1_6\n",
      "V1_7\n",
      "V1_8\n",
      "V1_9\n",
      "V1_10\n",
      "V1_11\n",
      "V2_0\n",
      "V2_1\n",
      "V2_2\n",
      "V2_3\n",
      "V2_4\n",
      "V2_5\n",
      "V2_6\n",
      "V2_7\n",
      "V2_8\n",
      "V2_9\n",
      "V2_10\n",
      "V2_11\n",
      "V3_0\n",
      "V3_1\n",
      "V3_2\n",
      "V3_3\n",
      "V3_4\n",
      "V3_5\n",
      "V3_6\n",
      "V3_7\n",
      "V3_8\n",
      "V3_9\n",
      "V3_10\n",
      "V3_11\n",
      "V4_0\n",
      "V4_1\n",
      "V4_2\n",
      "V4_3\n",
      "V4_4\n",
      "V4_5\n",
      "V4_6\n",
      "V4_7\n",
      "V4_8\n",
      "V4_9\n",
      "V4_10\n",
      "V4_11\n",
      "V5_0\n",
      "V5_1\n",
      "V5_2\n",
      "V5_3\n",
      "V5_4\n",
      "V5_5\n",
      "V5_6\n",
      "V5_7\n",
      "V5_8\n",
      "V5_9\n",
      "V5_10\n",
      "V5_11\n",
      "V6_0\n",
      "V6_1\n",
      "V6_2\n",
      "V6_3\n",
      "V6_4\n",
      "V6_5\n",
      "V6_6\n",
      "V6_7\n",
      "V6_8\n",
      "V6_9\n",
      "V6_10\n",
      "V6_11\n",
      "JJ_wave\n",
      "Q_wave_2\n",
      "R_wave_2\n",
      "S_wave_2\n",
      "R'_wave_2\n",
      "S'_wave_2\n",
      "P_wave_2\n",
      "T_wave_2\n",
      "QRSA\n",
      "QRSTA\n",
      "DII_2_0\n",
      "DII_2_1\n",
      "DII_2_2\n",
      "DII_2_3\n",
      "DII_2_4\n",
      "DII_2_5\n",
      "DII_2_6\n",
      "DII_2_7\n",
      "DII_2_8\n",
      "DII_2_9\n",
      "DIII_2_0\n",
      "DIII_2_1\n",
      "DIII_2_2\n",
      "DIII_2_3\n",
      "DIII_2_4\n",
      "DIII_2_5\n",
      "DIII_2_6\n",
      "DIII_2_7\n",
      "DIII_2_8\n",
      "DIII_2_9\n",
      "AVR_2_0\n",
      "AVR_2_1\n",
      "AVR_2_2\n",
      "AVR_2_3\n",
      "AVR_2_4\n",
      "AVR_2_5\n",
      "AVR_2_6\n",
      "AVR_2_7\n",
      "AVR_2_8\n",
      "AVR_2_9\n",
      "AVL_2_0\n",
      "AVL_2_1\n",
      "AVL_2_2\n",
      "AVL_2_3\n",
      "AVL_2_4\n",
      "AVL_2_5\n",
      "AVL_2_6\n",
      "AVL_2_7\n",
      "AVL_2_8\n",
      "AVL_2_9\n",
      "AVF_2_0\n",
      "AVF_2_1\n",
      "AVF_2_2\n",
      "AVF_2_3\n",
      "AVF_2_4\n",
      "AVF_2_5\n",
      "AVF_2_6\n",
      "AVF_2_7\n",
      "AVF_2_8\n",
      "AVF_2_9\n",
      "V1_2_0\n",
      "V1_2_1\n",
      "V1_2_2\n",
      "V1_2_3\n",
      "V1_2_4\n",
      "V1_2_5\n",
      "V1_2_6\n",
      "V1_2_7\n",
      "V1_2_8\n",
      "V1_2_9\n",
      "V2_2_0\n",
      "V2_2_1\n",
      "V2_2_2\n",
      "V2_2_3\n",
      "V2_2_4\n",
      "V2_2_5\n",
      "V2_2_6\n",
      "V2_2_7\n",
      "V2_2_8\n",
      "V2_2_9\n",
      "V3_2_0\n",
      "V3_2_1\n",
      "V3_2_2\n",
      "V3_2_3\n",
      "V3_2_4\n",
      "V3_2_5\n",
      "V3_2_6\n",
      "V3_2_7\n",
      "V3_2_8\n",
      "V3_2_9\n",
      "V4_2_0\n",
      "V4_2_1\n",
      "V4_2_2\n",
      "V4_2_3\n",
      "V4_2_4\n",
      "V4_2_5\n",
      "V4_2_6\n",
      "V4_2_7\n",
      "V4_2_8\n",
      "V4_2_9\n",
      "V5_2_0\n",
      "V5_2_1\n",
      "V5_2_2\n",
      "V5_2_3\n",
      "V5_2_4\n",
      "V5_2_5\n",
      "V5_2_6\n",
      "V5_2_7\n",
      "V5_2_8\n",
      "V5_2_9\n",
      "V6_2_0\n",
      "V6_2_1\n",
      "V6_2_2\n",
      "V6_2_3\n",
      "V6_2_4\n",
      "V6_2_5\n",
      "V6_2_6\n",
      "V6_2_7\n",
      "V6_2_8\n",
      "V6_2_9\n",
      "sicknes\n"
     ]
    }
   ],
   "source": [
    "max_min_values=[]\n",
    "for column in data.columns:\n",
    "    print(column)\n",
    "    max_min_values.append([column,np.max(data[column]),np.min(data[column])])\n",
    "pd.DataFrame(max_min_values).to_csv(data_info_root+\"max_min_val.csv\")"
   ]
  },
  {
   "attachments": {},
   "cell_type": "markdown",
   "metadata": {},
   "source": [
    "Po odczytaniu wartosci maksymalnych i minimalnych dla całego data'setu mozemy zauwazyc ze niektóre wartosci maja 0 jednocesnie jako maksymalna i minimalna wartosc, przez co nie niosa zadnej infomacji dlatego nalezy je usunąć"
   ]
  },
  {
   "cell_type": "code",
   "execution_count": null,
   "metadata": {},
   "outputs": [],
   "source": []
  },
  {
   "cell_type": "code",
   "execution_count": null,
   "metadata": {},
   "outputs": [
    {
     "name": "stdout",
     "output_type": "stream",
     "text": [
      "780 141\n"
     ]
    },
    {
     "data": {
      "text/plain": [
       "Age               1.0\n",
       "Sex               1.0\n",
       "Height          780.0\n",
       "Weight            6.0\n",
       "QRS_duration     85.0\n",
       "                ...  \n",
       "V6_2_6            1.3\n",
       "V6_2_7            0.7\n",
       "V6_2_8            2.7\n",
       "V6_2_9            5.5\n",
       "sicknes           5.0\n",
       "Name: 141, Length: 279, dtype: float64"
      ]
     },
     "execution_count": 429,
     "metadata": {},
     "output_type": "execute_result"
    }
   ],
   "source": [
    "max_heigh=np.max(data[\"Height\"])\n",
    "max_heigh_index=np.argmax(data[\"Height\"])\n",
    "print(max_heigh,max_heigh_index)\n",
    "\n",
    "data.iloc[141]"
   ]
  },
  {
   "cell_type": "code",
   "execution_count": null,
   "metadata": {},
   "outputs": [],
   "source": []
  }
 ],
 "metadata": {
  "kernelspec": {
   "display_name": "Python 3",
   "language": "python",
   "name": "python3"
  },
  "language_info": {
   "codemirror_mode": {
    "name": "ipython",
    "version": 3
   },
   "file_extension": ".py",
   "mimetype": "text/x-python",
   "name": "python",
   "nbconvert_exporter": "python",
   "pygments_lexer": "ipython3",
   "version": "3.8.10"
  },
  "orig_nbformat": 4
 },
 "nbformat": 4,
 "nbformat_minor": 2
}
