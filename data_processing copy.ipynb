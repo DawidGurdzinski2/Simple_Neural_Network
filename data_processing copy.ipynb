{
 "cells": [
  {
   "cell_type": "code",
   "execution_count": 433,
   "metadata": {},
   "outputs": [],
   "source": [
    "import io\n",
    "import pandas as pd\n",
    "import numpy as np\n",
    "import matplotlib.pyplot as plt"
   ]
  },
  {
   "cell_type": "markdown",
   "metadata": {},
   "source": []
  },
  {
   "cell_type": "code",
   "execution_count": 434,
   "metadata": {},
   "outputs": [],
   "source": [
    "import io\n",
    "\n",
    "with io.open('Arrhythmia_MLR/attributes.names', mode='r', encoding='utf-8') as f:\n",
    "    lines = f.readlines()\n",
    "lines = [line.strip() for line in lines]\n",
    "attributes=[]\n",
    "for attr in lines:\n",
    "    indexs=[int(s) for s in attr.split() if s.isdigit()]\n",
    "    if(len(indexs)==1):\n",
    "        words=attr.split(\" \")\n",
    "        attributes.append(words[1])\n",
    "    elif(len(indexs)==2):\n",
    "       words=attr.split(\" \")\n",
    "       for i in range(1+indexs[1]-indexs[0]):\n",
    "           attributes.append(words[3]+\"_\"+str(i))\n",
    "     \n",
    "categorical_data=[\"Sex\",\"Existence_of_diphasic_derivation_of_P_wave\",\"Existence_of_diphasic_derivation_of_R_wave\",\n",
    "                  \"Existence_of_diphasic_derivation_of_T_wave\",\"Existence_of_ragged_P_wave\",\n",
    "                  \"Existence_of_ragged_R_wave\",\"Existence_of_ragged_T_wave\"]\n",
    "\n",
    "data_info_root=\"Arrhythmia_MLR/data_info/\""
   ]
  },
  {
   "cell_type": "code",
   "execution_count": 435,
   "metadata": {},
   "outputs": [],
   "source": [
    "\n",
    "data = pd.read_csv('Arrhythmia_MLR/arrhythmia.data', header=None, delimiter=',', names=attributes)"
   ]
  },
  {
   "cell_type": "code",
   "execution_count": 436,
   "metadata": {},
   "outputs": [
    {
     "data": {
      "text/html": [
       "<div>\n",
       "<style scoped>\n",
       "    .dataframe tbody tr th:only-of-type {\n",
       "        vertical-align: middle;\n",
       "    }\n",
       "\n",
       "    .dataframe tbody tr th {\n",
       "        vertical-align: top;\n",
       "    }\n",
       "\n",
       "    .dataframe thead th {\n",
       "        text-align: right;\n",
       "    }\n",
       "</style>\n",
       "<table border=\"1\" class=\"dataframe\">\n",
       "  <thead>\n",
       "    <tr style=\"text-align: right;\">\n",
       "      <th></th>\n",
       "      <th>Age</th>\n",
       "      <th>Sex</th>\n",
       "      <th>Height</th>\n",
       "      <th>Weight</th>\n",
       "      <th>QRS_duration</th>\n",
       "      <th>P-R_interval</th>\n",
       "      <th>Q-T_interval</th>\n",
       "      <th>T_interval</th>\n",
       "      <th>P_interval</th>\n",
       "      <th>QRS</th>\n",
       "      <th>...</th>\n",
       "      <th>V6_2_1</th>\n",
       "      <th>V6_2_2</th>\n",
       "      <th>V6_2_3</th>\n",
       "      <th>V6_2_4</th>\n",
       "      <th>V6_2_5</th>\n",
       "      <th>V6_2_6</th>\n",
       "      <th>V6_2_7</th>\n",
       "      <th>V6_2_8</th>\n",
       "      <th>V6_2_9</th>\n",
       "      <th>sicknes</th>\n",
       "    </tr>\n",
       "  </thead>\n",
       "  <tbody>\n",
       "    <tr>\n",
       "      <th>0</th>\n",
       "      <td>75</td>\n",
       "      <td>0</td>\n",
       "      <td>190</td>\n",
       "      <td>80</td>\n",
       "      <td>91</td>\n",
       "      <td>193</td>\n",
       "      <td>371</td>\n",
       "      <td>174</td>\n",
       "      <td>121</td>\n",
       "      <td>-16</td>\n",
       "      <td>...</td>\n",
       "      <td>0.0</td>\n",
       "      <td>9.0</td>\n",
       "      <td>-0.9</td>\n",
       "      <td>0.0</td>\n",
       "      <td>0.0</td>\n",
       "      <td>0.9</td>\n",
       "      <td>2.9</td>\n",
       "      <td>23.3</td>\n",
       "      <td>49.4</td>\n",
       "      <td>8</td>\n",
       "    </tr>\n",
       "    <tr>\n",
       "      <th>1</th>\n",
       "      <td>56</td>\n",
       "      <td>1</td>\n",
       "      <td>165</td>\n",
       "      <td>64</td>\n",
       "      <td>81</td>\n",
       "      <td>174</td>\n",
       "      <td>401</td>\n",
       "      <td>149</td>\n",
       "      <td>39</td>\n",
       "      <td>25</td>\n",
       "      <td>...</td>\n",
       "      <td>0.0</td>\n",
       "      <td>8.5</td>\n",
       "      <td>0.0</td>\n",
       "      <td>0.0</td>\n",
       "      <td>0.0</td>\n",
       "      <td>0.2</td>\n",
       "      <td>2.1</td>\n",
       "      <td>20.4</td>\n",
       "      <td>38.8</td>\n",
       "      <td>6</td>\n",
       "    </tr>\n",
       "    <tr>\n",
       "      <th>2</th>\n",
       "      <td>54</td>\n",
       "      <td>0</td>\n",
       "      <td>172</td>\n",
       "      <td>95</td>\n",
       "      <td>138</td>\n",
       "      <td>163</td>\n",
       "      <td>386</td>\n",
       "      <td>185</td>\n",
       "      <td>102</td>\n",
       "      <td>96</td>\n",
       "      <td>...</td>\n",
       "      <td>0.0</td>\n",
       "      <td>9.5</td>\n",
       "      <td>-2.4</td>\n",
       "      <td>0.0</td>\n",
       "      <td>0.0</td>\n",
       "      <td>0.3</td>\n",
       "      <td>3.4</td>\n",
       "      <td>12.3</td>\n",
       "      <td>49.0</td>\n",
       "      <td>10</td>\n",
       "    </tr>\n",
       "    <tr>\n",
       "      <th>3</th>\n",
       "      <td>55</td>\n",
       "      <td>0</td>\n",
       "      <td>175</td>\n",
       "      <td>94</td>\n",
       "      <td>100</td>\n",
       "      <td>202</td>\n",
       "      <td>380</td>\n",
       "      <td>179</td>\n",
       "      <td>143</td>\n",
       "      <td>28</td>\n",
       "      <td>...</td>\n",
       "      <td>0.0</td>\n",
       "      <td>12.2</td>\n",
       "      <td>-2.2</td>\n",
       "      <td>0.0</td>\n",
       "      <td>0.0</td>\n",
       "      <td>0.4</td>\n",
       "      <td>2.6</td>\n",
       "      <td>34.6</td>\n",
       "      <td>61.6</td>\n",
       "      <td>1</td>\n",
       "    </tr>\n",
       "    <tr>\n",
       "      <th>4</th>\n",
       "      <td>75</td>\n",
       "      <td>0</td>\n",
       "      <td>190</td>\n",
       "      <td>80</td>\n",
       "      <td>88</td>\n",
       "      <td>181</td>\n",
       "      <td>360</td>\n",
       "      <td>177</td>\n",
       "      <td>103</td>\n",
       "      <td>-16</td>\n",
       "      <td>...</td>\n",
       "      <td>0.0</td>\n",
       "      <td>13.1</td>\n",
       "      <td>-3.6</td>\n",
       "      <td>0.0</td>\n",
       "      <td>0.0</td>\n",
       "      <td>-0.1</td>\n",
       "      <td>3.9</td>\n",
       "      <td>25.4</td>\n",
       "      <td>62.8</td>\n",
       "      <td>7</td>\n",
       "    </tr>\n",
       "  </tbody>\n",
       "</table>\n",
       "<p>5 rows × 280 columns</p>\n",
       "</div>"
      ],
      "text/plain": [
       "   Age  Sex  Height  Weight  QRS_duration  P-R_interval  Q-T_interval  \\\n",
       "0   75    0     190      80            91           193           371   \n",
       "1   56    1     165      64            81           174           401   \n",
       "2   54    0     172      95           138           163           386   \n",
       "3   55    0     175      94           100           202           380   \n",
       "4   75    0     190      80            88           181           360   \n",
       "\n",
       "   T_interval  P_interval  QRS  ... V6_2_1 V6_2_2 V6_2_3 V6_2_4 V6_2_5  \\\n",
       "0         174         121  -16  ...    0.0    9.0   -0.9    0.0    0.0   \n",
       "1         149          39   25  ...    0.0    8.5    0.0    0.0    0.0   \n",
       "2         185         102   96  ...    0.0    9.5   -2.4    0.0    0.0   \n",
       "3         179         143   28  ...    0.0   12.2   -2.2    0.0    0.0   \n",
       "4         177         103  -16  ...    0.0   13.1   -3.6    0.0    0.0   \n",
       "\n",
       "   V6_2_6  V6_2_7  V6_2_8  V6_2_9  sicknes  \n",
       "0     0.9     2.9    23.3    49.4        8  \n",
       "1     0.2     2.1    20.4    38.8        6  \n",
       "2     0.3     3.4    12.3    49.0       10  \n",
       "3     0.4     2.6    34.6    61.6        1  \n",
       "4    -0.1     3.9    25.4    62.8        7  \n",
       "\n",
       "[5 rows x 280 columns]"
      ]
     },
     "execution_count": 436,
     "metadata": {},
     "output_type": "execute_result"
    }
   ],
   "source": [
    "data.head()"
   ]
  },
  {
   "attachments": {},
   "cell_type": "markdown",
   "metadata": {},
   "source": [
    "SPRAWDZAMY CZY SĄ GDZIE PUSTE LUKI W DANYCH"
   ]
  },
  {
   "cell_type": "code",
   "execution_count": 437,
   "metadata": {},
   "outputs": [
    {
     "data": {
      "text/plain": [
       "0"
      ]
     },
     "execution_count": 437,
     "metadata": {},
     "output_type": "execute_result"
    }
   ],
   "source": [
    "data_null_sum=data.isnull().sum()\n",
    "data_null_sum.to_csv(data_info_root+\"data_null_sum.csv\")\n",
    "data_null_sum=data_null_sum.sum()\n",
    "data_null_sum\n",
    "#jak widac nigdzie nie brakuje danych w postaci pustej komórki"
   ]
  },
  {
   "cell_type": "code",
   "execution_count": 438,
   "metadata": {},
   "outputs": [
    {
     "data": {
      "text/plain": [
       "[['T', array([ 66,  91, 200, 212, 238, 360, 372, 412])],\n",
       " ['P',\n",
       "  array([ 54,  59, 106, 108, 116, 133, 174, 177, 193, 204, 217, 219, 243,\n",
       "         253, 279, 284, 298, 300, 308, 310, 350, 420])],\n",
       " ['QRST', array([241])],\n",
       " ['J',\n",
       "  array([  0,   1,   3,   4,   5,   6,   7,   9,  10,  11,  12,  13,  14,\n",
       "          15,  16,  17,  18,  19,  20,  21,  22,  23,  24,  25,  26,  27,\n",
       "          28,  30,  31,  32,  33,  34,  35,  36,  37,  38,  39,  40,  41,\n",
       "          42,  43,  44,  45,  46,  47,  48,  49,  50,  51,  52,  53,  54,\n",
       "          55,  57,  58,  59,  60,  61,  62,  63,  64,  65,  66,  67,  68,\n",
       "          69,  70,  72,  73,  74,  75,  76,  77,  78,  79,  80,  81,  82,\n",
       "          83,  84,  87,  90,  91,  92,  94,  95,  96,  97,  98, 100, 101,\n",
       "         102, 103, 104, 105, 106, 107, 109, 110, 111, 113, 114, 115, 116,\n",
       "         117, 118, 119, 121, 122, 123, 124, 125, 126, 127, 128, 129, 130,\n",
       "         131, 132, 134, 135, 136, 137, 139, 140, 141, 142, 143, 144, 145,\n",
       "         146, 147, 148, 149, 150, 151, 152, 153, 154, 155, 156, 157, 159,\n",
       "         160, 161, 162, 163, 164, 165, 166, 167, 168, 169, 171, 172, 173,\n",
       "         176, 177, 178, 179, 180, 181, 182, 183, 184, 185, 186, 190, 191,\n",
       "         192, 193, 194, 195, 196, 197, 199, 200, 201, 203, 204, 205, 206,\n",
       "         210, 211, 212, 214, 215, 216, 218, 219, 220, 221, 222, 223, 224,\n",
       "         225, 226, 227, 228, 229, 230, 231, 232, 233, 234, 236, 238, 240,\n",
       "         242, 243, 244, 245, 246, 247, 248, 249, 250, 251, 255, 257, 258,\n",
       "         259, 261, 262, 263, 264, 265, 266, 267, 268, 269, 270, 271, 272,\n",
       "         273, 274, 275, 276, 277, 278, 279, 280, 281, 282, 283, 284, 286,\n",
       "         287, 288, 289, 290, 292, 293, 294, 298, 299, 301, 302, 303, 304,\n",
       "         305, 306, 307, 309, 310, 311, 312, 313, 314, 315, 316, 317, 318,\n",
       "         320, 321, 325, 326, 327, 329, 330, 331, 332, 333, 335, 336, 337,\n",
       "         338, 339, 340, 341, 342, 343, 344, 345, 346, 347, 348, 349, 350,\n",
       "         351, 353, 355, 358, 360, 361, 362, 363, 364, 365, 369, 371, 372,\n",
       "         373, 374, 375, 377, 378, 379, 381, 382, 383, 384, 385, 386, 387,\n",
       "         390, 391, 392, 393, 394, 396, 397, 399, 400, 401, 402, 405, 406,\n",
       "         407, 408, 409, 411, 412, 413, 414, 415, 416, 417, 418, 419, 420,\n",
       "         421, 422, 423, 425, 427, 428, 429, 431, 432, 433, 434, 435, 436,\n",
       "         437, 438, 439, 441, 442, 443, 444, 445, 446, 447, 448, 451])],\n",
       " ['Heart_rate', array([4])]]"
      ]
     },
     "execution_count": 438,
     "metadata": {},
     "output_type": "execute_result"
    }
   ],
   "source": [
    "missing_values=[]\n",
    "missing_values_status=[]\n",
    "for attr in data.columns:\n",
    "    misval=np.where(data[attr]=='?')\n",
    "    missing_values_status.append([attr,misval[0]])\n",
    "    if(len(misval[0])!=0):\n",
    "        missing_values.append([attr,misval[0]])\n",
    "pd.DataFrame(missing_values_status).to_csv(data_info_root+\"data_missing_val.csv\",header=False)\n",
    "missing_values # puste wartosci przedstawione przy postaci znaku '?'\n"
   ]
  },
  {
   "attachments": {},
   "cell_type": "markdown",
   "metadata": {},
   "source": [
    "Sprawdzenie w jakim procencie danych brakuje wartosci"
   ]
  },
  {
   "cell_type": "code",
   "execution_count": 439,
   "metadata": {},
   "outputs": [
    {
     "name": "stdout",
     "output_type": "stream",
     "text": [
      "T długość 8 procent wartosci: 0.017699115044247787\n",
      "P długość 22 procent wartosci: 0.048672566371681415\n",
      "QRST długość 1 procent wartosci: 0.0022123893805309734\n",
      "J długość 376 procent wartosci: 0.831858407079646\n",
      "Heart_rate długość 1 procent wartosci: 0.0022123893805309734\n"
     ]
    }
   ],
   "source": [
    "for misval in missing_values:\n",
    "    print(misval[0],\"długość\",len(misval[1]),\"procent wartosci:\",len(misval[1])/len(data))"
   ]
  },
  {
   "attachments": {},
   "cell_type": "markdown",
   "metadata": {},
   "source": [
    "Usuniesie kolumny J i sprawdzenie drugi raz brakujacych wartosci"
   ]
  },
  {
   "cell_type": "code",
   "execution_count": 440,
   "metadata": {},
   "outputs": [],
   "source": [
    "#usuwamy wartosc J gdyz brakuje w niej ponad 83 procent danych\n",
    "data=data.drop(columns='J',axis=1)\n",
    "\n"
   ]
  },
  {
   "cell_type": "code",
   "execution_count": 441,
   "metadata": {},
   "outputs": [
    {
     "data": {
      "text/plain": [
       "[['T', array([ 66,  91, 200, 212, 238, 360, 372, 412])],\n",
       " ['P',\n",
       "  array([ 54,  59, 106, 108, 116, 133, 174, 177, 193, 204, 217, 219, 243,\n",
       "         253, 279, 284, 298, 300, 308, 310, 350, 420])],\n",
       " ['QRST', array([241])],\n",
       " ['Heart_rate', array([4])]]"
      ]
     },
     "execution_count": 441,
     "metadata": {},
     "output_type": "execute_result"
    }
   ],
   "source": [
    "\n",
    "\n",
    "missing_values=[]\n",
    "missing_values_status=[]\n",
    "for attr in data.columns:\n",
    "    misval=np.where(data[attr]=='?')\n",
    "    missing_values_status.append([attr,misval[0]])\n",
    "    if(len(misval[0])!=0):\n",
    "        missing_values.append([attr,misval[0]])\n",
    "pd.DataFrame(missing_values_status).to_csv(data_info_root+\"data_missing_val.csv\",header=False)\n",
    "missing_values # puste wartosci przedstawione przy postaci znaku '?'"
   ]
  },
  {
   "attachments": {},
   "cell_type": "markdown",
   "metadata": {},
   "source": [
    "Sprawdzamy jakie klasy chorob dla jakiej cechy są powinny być obliczane"
   ]
  },
  {
   "cell_type": "code",
   "execution_count": 442,
   "metadata": {},
   "outputs": [
    {
     "data": {
      "text/plain": [
       "{1, 2, 3, 4, 6, 7, 10, 15, 16}"
      ]
     },
     "execution_count": 442,
     "metadata": {},
     "output_type": "execute_result"
    }
   ],
   "source": [
    "sicknes_data=[]\n",
    "sicknes_types=[]\n",
    "for misval in missing_values:\n",
    "    for col in misval[1]:\n",
    "        sicknes_data.append([misval[0],data[\"sicknes\"][col],col])\n",
    "        sicknes_types.append(data[\"sicknes\"][col])\n",
    "set(sicknes_types)"
   ]
  },
  {
   "attachments": {},
   "cell_type": "markdown",
   "metadata": {},
   "source": [
    "Wypisujemy te cechy i ich klasy chorob dla których dane wpisujemy z srednich oraz te które wpisujemy recznie"
   ]
  },
  {
   "cell_type": "code",
   "execution_count": 443,
   "metadata": {},
   "outputs": [],
   "source": [
    "mean_data=[]\n",
    "manual_data=[]\n",
    "for dt in sicknes_data:\n",
    "    if(dt[1]!=3 and dt[1]!=4 and dt[1]!=7 and dt[1]!=15):\n",
    "        mean_data.append(dt)\n",
    "    else:\n",
    "        manual_data.append(dt)"
   ]
  },
  {
   "cell_type": "code",
   "execution_count": 444,
   "metadata": {},
   "outputs": [
    {
     "name": "stdout",
     "output_type": "stream",
     "text": [
      "[['T', 4, 91], ['P', 15, 174], ['P', 3, 204], ['P', 15, 217], ['P', 15, 243], ['P', 3, 253], ['P', 15, 300], ['P', 15, 420], ['Heart_rate', 7, 4]]\n"
     ]
    }
   ],
   "source": [
    "print(manual_data)"
   ]
  },
  {
   "cell_type": "code",
   "execution_count": 445,
   "metadata": {},
   "outputs": [
    {
     "data": {
      "text/plain": [
       "[['T', 2, 66],\n",
       " ['T', 2, 200],\n",
       " ['T', 2, 212],\n",
       " ['T', 1, 238],\n",
       " ['T', 2, 360],\n",
       " ['T', 2, 372],\n",
       " ['T', 16, 412],\n",
       " ['P', 16, 54],\n",
       " ['P', 1, 59],\n",
       " ['P', 6, 106],\n",
       " ['P', 2, 108],\n",
       " ['P', 16, 116],\n",
       " ['P', 1, 133],\n",
       " ['P', 1, 177],\n",
       " ['P', 2, 193],\n",
       " ['P', 16, 219],\n",
       " ['P', 1, 279],\n",
       " ['P', 10, 284],\n",
       " ['P', 10, 298],\n",
       " ['P', 2, 308],\n",
       " ['P', 1, 310],\n",
       " ['P', 1, 350],\n",
       " ['QRST', 1, 241]]"
      ]
     },
     "execution_count": 445,
     "metadata": {},
     "output_type": "execute_result"
    }
   ],
   "source": [
    "mean_data"
   ]
  },
  {
   "cell_type": "code",
   "execution_count": 446,
   "metadata": {},
   "outputs": [],
   "source": [
    "\n",
    "def get_mean(data,label,sicknes):\n",
    "    idxs=data.loc[data[\"sicknes\"]==sicknes].index\n",
    "    arr_mean=[]\n",
    "    for i in idxs:\n",
    "        if data[label][i]!='?':\n",
    "            arr_mean.append(data[label][i])\n",
    "    return np.mean(np.array(arr_mean).astype(float))\n"
   ]
  },
  {
   "cell_type": "code",
   "execution_count": 447,
   "metadata": {},
   "outputs": [
    {
     "name": "stderr",
     "output_type": "stream",
     "text": [
      "/tmp/ipykernel_27638/3856677013.py:2: SettingWithCopyWarning: \n",
      "A value is trying to be set on a copy of a slice from a DataFrame\n",
      "\n",
      "See the caveats in the documentation: https://pandas.pydata.org/pandas-docs/stable/user_guide/indexing.html#returning-a-view-versus-a-copy\n",
      "  data[mdata[0]][mdata[2]]=get_mean(data,mdata[0],mdata[1])\n"
     ]
    }
   ],
   "source": [
    "for mdata in mean_data:\n",
    "    data[mdata[0]][mdata[2]]=get_mean(data,mdata[0],mdata[1])"
   ]
  },
  {
   "cell_type": "code",
   "execution_count": 448,
   "metadata": {},
   "outputs": [],
   "source": [
    "def get_arr_mean(data,label,sicknes):\n",
    "    idxs=data.loc[data[\"sicknes\"]==sicknes].index\n",
    "    arr_mean=[]\n",
    "    for i in idxs:\n",
    "        if data[label][i]!='?':\n",
    "            arr_mean.append(data[label][i])\n",
    "    return arr_mean\n"
   ]
  },
  {
   "cell_type": "code",
   "execution_count": 449,
   "metadata": {},
   "outputs": [
    {
     "name": "stdout",
     "output_type": "stream",
     "text": [
      "T 4 ['46', '60', '87', '15', '-8', '38', '104', '-75', '114', '-49', '137', '66', '-42', '51']\n",
      "P 15 []\n",
      "P 3 ['68', '37', '43', '71', '68', '36', '50', '59', '39', '14', '72', '30', '26']\n",
      "P 15 []\n",
      "P 15 []\n",
      "P 3 ['68', '37', '43', '71', '68', '36', '50', '59', '39', '14', '72', '30', '26']\n",
      "P 15 []\n",
      "P 15 []\n",
      "Heart_rate 7 ['86', '63']\n"
     ]
    }
   ],
   "source": [
    "for mdata in manual_data:\n",
    "    print(mdata[0],mdata[1],get_arr_mean(data,mdata[0],mdata[1]))"
   ]
  },
  {
   "attachments": {},
   "cell_type": "markdown",
   "metadata": {},
   "source": [
    "Dla klasy choroby 7 czyli Ventricular Premature Contraction (PVC) heart_rate waha sie od 60-100 wiec umieszczam wartosc (86+63)/2 zostanie wpisana "
   ]
  },
  {
   "cell_type": "code",
   "execution_count": 450,
   "metadata": {},
   "outputs": [
    {
     "name": "stdout",
     "output_type": "stream",
     "text": [
      "48.8613344205605\n"
     ]
    },
    {
     "name": "stderr",
     "output_type": "stream",
     "text": [
      "/tmp/ipykernel_27638/4154352118.py:1: SettingWithCopyWarning: \n",
      "A value is trying to be set on a copy of a slice from a DataFrame\n",
      "\n",
      "See the caveats in the documentation: https://pandas.pydata.org/pandas-docs/stable/user_guide/indexing.html#returning-a-view-versus-a-copy\n",
      "  data[\"T\"][91]=get_mean(data,manual_data[0][0],manual_data[0][1])\n",
      "/tmp/ipykernel_27638/4154352118.py:2: SettingWithCopyWarning: \n",
      "A value is trying to be set on a copy of a slice from a DataFrame\n",
      "\n",
      "See the caveats in the documentation: https://pandas.pydata.org/pandas-docs/stable/user_guide/indexing.html#returning-a-view-versus-a-copy\n",
      "  data[\"P\"][204]=get_mean(data,manual_data[2][0],manual_data[2][1])\n",
      "/tmp/ipykernel_27638/4154352118.py:3: SettingWithCopyWarning: \n",
      "A value is trying to be set on a copy of a slice from a DataFrame\n",
      "\n",
      "See the caveats in the documentation: https://pandas.pydata.org/pandas-docs/stable/user_guide/indexing.html#returning-a-view-versus-a-copy\n",
      "  data[\"P\"][253]=get_mean(data,manual_data[2][0],manual_data[2][1])\n",
      "/tmp/ipykernel_27638/4154352118.py:4: SettingWithCopyWarning: \n",
      "A value is trying to be set on a copy of a slice from a DataFrame\n",
      "\n",
      "See the caveats in the documentation: https://pandas.pydata.org/pandas-docs/stable/user_guide/indexing.html#returning-a-view-versus-a-copy\n",
      "  data[\"Heart_rate\"][4]=(86+63)/2\n",
      "/tmp/ipykernel_27638/4154352118.py:14: SettingWithCopyWarning: \n",
      "A value is trying to be set on a copy of a slice from a DataFrame\n",
      "\n",
      "See the caveats in the documentation: https://pandas.pydata.org/pandas-docs/stable/user_guide/indexing.html#returning-a-view-versus-a-copy\n",
      "  data[\"P\"][i]=P_avg\n"
     ]
    },
    {
     "data": {
      "image/png": "[encoded data removed]",
      "text/plain": [
       "<Figure size 500x500 with 1 Axes>"
      ]
     },
     "metadata": {},
     "output_type": "display_data"
    }
   ],
   "source": [
    "data[\"T\"][91]=get_mean(data,manual_data[0][0],manual_data[0][1])\n",
    "data[\"P\"][204]=get_mean(data,manual_data[2][0],manual_data[2][1])\n",
    "data[\"P\"][253]=get_mean(data,manual_data[2][0],manual_data[2][1])\n",
    "data[\"Heart_rate\"][4]=(86+63)/2\n",
    "data\n",
    "P_data=data[\"P\"].copy()\n",
    "P_data=P_data.drop([174,217,243,300,420])\n",
    "\n",
    "P_avg=np.mean(P_data.astype(float))\n",
    "print(P_avg)\n",
    "fig,axs=plt.subplots(1,1,figsize=[5,5])\n",
    "axs.hist(P_data.astype(float))\n",
    "for i in [174,217,243,300,420]:\n",
    "    data[\"P\"][i]=P_avg\n"
   ]
  },
  {
   "attachments": {},
   "cell_type": "markdown",
   "metadata": {},
   "source": [
    "Sprawdzenie z zmodyfikowanie formatu danych"
   ]
  },
  {
   "cell_type": "code",
   "execution_count": 451,
   "metadata": {},
   "outputs": [
    {
     "name": "stdout",
     "output_type": "stream",
     "text": [
      "Age               int64\n",
      "Sex               int64\n",
      "Height            int64\n",
      "Weight            int64\n",
      "QRS_duration      int64\n",
      "                 ...   \n",
      "V6_2_6          float64\n",
      "V6_2_7          float64\n",
      "V6_2_8          float64\n",
      "V6_2_9          float64\n",
      "sicknes           int64\n",
      "Length: 279, dtype: object\n"
     ]
    }
   ],
   "source": [
    "print(data.dtypes)\n",
    "pd.DataFrame(data.dtypes).to_csv(data_info_root+\"data_types.csv\")"
   ]
  },
  {
   "cell_type": "code",
   "execution_count": 452,
   "metadata": {},
   "outputs": [
    {
     "name": "stdout",
     "output_type": "stream",
     "text": [
      "Age               int64\n",
      "Sex               int64\n",
      "Height            int64\n",
      "Weight            int64\n",
      "QRS_duration      int64\n",
      "                 ...   \n",
      "V6_2_6          float64\n",
      "V6_2_7          float64\n",
      "V6_2_8          float64\n",
      "V6_2_9          float64\n",
      "sicknes           int64\n",
      "Length: 279, dtype: object\n"
     ]
    }
   ],
   "source": [
    "for column in data.columns:\n",
    "    if(data[column].dtype==object):\n",
    "        data[column]=data[column].astype(float)\n",
    "print(data.dtypes)\n",
    "\n",
    "\n",
    "pd.DataFrame(data.dtypes).to_csv(data_info_root+\"data_types_changed.csv\")"
   ]
  },
  {
   "attachments": {},
   "cell_type": "markdown",
   "metadata": {},
   "source": [
    "ANALIZA DANYCH"
   ]
  },
  {
   "cell_type": "code",
   "execution_count": 453,
   "metadata": {},
   "outputs": [],
   "source": [
    "def create_histograms(n_vertical,n_horizontal,fig_size,dataset,titles,xlabel,ylabel,n_bins,labels):\n",
    "    fig,axs=fig,axs=plt.subplots(n_vertical,n_horizontal,figsize=fig_size)\n",
    "    i=0\n",
    "    if n_vertical==1 and n_horizontal==1:\n",
    "        axs.hist(dataset,n_bins,label=labels)\n",
    "        axs.set_title(titles)\n",
    "        axs.set_xlabel(xlabel)\n",
    "        axs.set_ylabel(ylabel)  \n",
    "        \n",
    "    else:\n",
    "        for axr in axs:\n",
    "            if n_horizontal==1 or n_vertical==1:\n",
    "                axr.hist(dataset[i],n_bins[i],label=labels)\n",
    "                axr.set_title(titles[i])\n",
    "                axr.set_xlabel(xlabel[i])\n",
    "                axr.set_ylabel(ylabel[i])\n",
    "                i+=1\n",
    "            else:\n",
    "                for ax in axr:\n",
    "                    if(i !=len(dataset)):\n",
    "                        ax.hist(dataset[i],n_bins[i])\n",
    "                        ax.set_title(titles[i])\n",
    "                        ax.set_xlabel(xlabel[i])\n",
    "                        ax.set_ylabel(ylabel[i])\n",
    "                        i+=1"
   ]
  },
  {
   "cell_type": "code",
   "execution_count": 454,
   "metadata": {},
   "outputs": [
    {
     "data": {
      "text/plain": [
       "1     245\n",
       "10     50\n",
       "2      44\n",
       "6      25\n",
       "16     22\n",
       "3      15\n",
       "4      15\n",
       "5      13\n",
       "9       9\n",
       "15      5\n",
       "14      4\n",
       "7       3\n",
       "8       2\n",
       "Name: sicknes, dtype: int64"
      ]
     },
     "execution_count": 454,
     "metadata": {},
     "output_type": "execute_result"
    }
   ],
   "source": [
    "\n",
    "data[\"sicknes\"].value_counts()"
   ]
  },
  {
   "cell_type": "code",
   "execution_count": 455,
   "metadata": {},
   "outputs": [
    {
     "data": {
      "image/png": "[encoded data removed]",
      "text/plain": [
       "<Figure size 1000x500 with 1 Axes>"
      ]
     },
     "metadata": {},
     "output_type": "display_data"
    }
   ],
   "source": [
    "\n",
    "create_histograms(1,1,fig_size=[10,5],dataset=[data[\"sicknes\"]],titles=[\"sickness\"],xlabel=[\"klasa choroby \"],ylabel=[\"liczba przypadków\"],n_bins=15,labels=2)"
   ]
  },
  {
   "attachments": {},
   "cell_type": "markdown",
   "metadata": {},
   "source": [
    "Dataset\n"
   ]
  },
  {
   "cell_type": "code",
   "execution_count": 456,
   "metadata": {},
   "outputs": [],
   "source": [
    "\n",
    "\n",
    "data_normal=data.loc[data[\"sicknes\"]==1]\n",
    "data_sick=data.loc[data[\"sicknes\"]==10]\n"
   ]
  },
  {
   "attachments": {},
   "cell_type": "markdown",
   "metadata": {},
   "source": [
    "WIEK"
   ]
  },
  {
   "cell_type": "code",
   "execution_count": 457,
   "metadata": {},
   "outputs": [
    {
     "data": {
      "text/plain": [
       "<matplotlib.legend.Legend at 0x7fce51f93dc0>"
      ]
     },
     "execution_count": 457,
     "metadata": {},
     "output_type": "execute_result"
    },
    {
     "data": {
      "image/png": "[encoded data removed]",
      "text/plain": [
       "<Figure size 1500x500 with 1 Axes>"
      ]
     },
     "metadata": {},
     "output_type": "display_data"
    }
   ],
   "source": [
    "label=\"Age\"\n",
    "title=\"Wiek\"\n",
    "xlabel=\"lata\"\n",
    "labels=[\"Wszyscy\",\"Zdrowy\",\"Zablokowana prawa odnoga pęczka Hisa\"]\n",
    "\n",
    "fig,axs=plt.subplots(1,1,figsize=[15,5])\n",
    "axs.hist([data[label],data_normal[label],data_sick[label]],bins=70,label=labels)\n",
    "axs.set_title(title)\n",
    "axs.set_xlabel(xlabel)\n",
    "axs.set_ylabel(\"liczba przypadków\")  \n",
    "axs.legend(loc='upper right')\n",
    "axs.legend(loc='upper left')    \n"
   ]
  },
  {
   "cell_type": "code",
   "execution_count": 458,
   "metadata": {},
   "outputs": [
    {
     "name": "stdout",
     "output_type": "stream",
     "text": [
      "Dla Całości\n",
      "maksymalna wartosc 83 minimalna 0 srednia 46.4712389380531 odchylenie 16.466631319744405\n",
      "Dla zdrowych\n",
      "maksymalna wartosc 83 minimalna 9 srednia 46.2734693877551 odchylenie 14.556092402453762\n",
      "Dla chorych\n",
      "maksymalna wartosc 73 minimalna 7 srednia 38.92 odchylenie 17.692198211387424\n"
     ]
    }
   ],
   "source": [
    "\n",
    "print(\"Dla Całości\")\n",
    "print(  \"maksymalna wartosc\",np.max(data[label]),\n",
    "\"minimalna\",np.min(data[label]),\n",
    "\"srednia\" ,np.mean(data[label]),\n",
    "\"odchylenie\",np.std(data[label], ddof=1) )\n",
    "\n",
    "print(\"Dla zdrowych\")\n",
    "print(  \"maksymalna wartosc\",np.max(data_normal[label]),\n",
    "\"minimalna\",np.min(data_normal[label]),\n",
    "\"srednia\" ,np.mean(data_normal[label]),\n",
    "\"odchylenie\",np.std(data_normal[label], ddof=1) )\n",
    "\n",
    "print(\"Dla chorych\")\n",
    "print(  \"maksymalna wartosc\",np.max(data_sick[label]),\n",
    "\"minimalna\",np.min(data_sick[label]),\n",
    "\"srednia\" ,np.mean(data_sick[label]),\n",
    "\"odchylenie\",np.std(data_sick[label], ddof=1) )"
   ]
  },
  {
   "attachments": {},
   "cell_type": "markdown",
   "metadata": {},
   "source": [
    "PŁEĆ"
   ]
  },
  {
   "cell_type": "code",
   "execution_count": 459,
   "metadata": {},
   "outputs": [
    {
     "data": {
      "text/plain": [
       "<matplotlib.legend.Legend at 0x7fce35bb33a0>"
      ]
     },
     "execution_count": 459,
     "metadata": {},
     "output_type": "execute_result"
    },
    {
     "data": {
      "image/png": "[encoded data removed]",
      "text/plain": [
       "<Figure size 1500x500 with 1 Axes>"
      ]
     },
     "metadata": {},
     "output_type": "display_data"
    }
   ],
   "source": [
    "label=\"Sex\"\n",
    "title=\"Płeć\"\n",
    "xlabel=\"Meżczyzna                                                                                           Kobieta \"\n",
    "labels=[\"Wszyscy\",\"Zdrowy\",\"Zablokowana prawa odnoga pęczka Hisa\"]\n",
    "\n",
    "fig,axs=plt.subplots(1,1,figsize=[15,5])\n",
    "axs.hist([data[label],data_normal[label],data_sick[label]],bins=2,label=labels)\n",
    "axs.set_title(title)\n",
    "axs.set_xlabel(xlabel)\n",
    "axs.set_ylabel(\"liczba przypadków\")  \n",
    "axs.legend(loc='upper right')\n",
    "axs.legend(loc='upper left')   "
   ]
  },
  {
   "cell_type": "code",
   "execution_count": 460,
   "metadata": {},
   "outputs": [
    {
     "name": "stdout",
     "output_type": "stream",
     "text": [
      "Dla Całości\n",
      "maksymalna wartosc 1 minimalna 0 srednia 0.5508849557522124 odchylenie 0.49795512228377115\n",
      "Dla zdrowych\n",
      "maksymalna wartosc 1 minimalna 0 srednia 0.6530612244897959 odchylenie 0.47697047749324467\n",
      "Dla chorych\n",
      "maksymalna wartosc 1 minimalna 0 srednia 0.44 odchylenie 0.501426536422407\n"
     ]
    }
   ],
   "source": [
    "\n",
    "print(\"Dla Całości\")\n",
    "print(  \"maksymalna wartosc\",np.max(data[label]),\n",
    "\"minimalna\",np.min(data[label]),\n",
    "\"srednia\" ,np.mean(data[label]),\n",
    "\"odchylenie\",np.std(data[label], ddof=1) )\n",
    "\n",
    "print(\"Dla zdrowych\")\n",
    "print(  \"maksymalna wartosc\",np.max(data_normal[label]),\n",
    "\"minimalna\",np.min(data_normal[label]),\n",
    "\"srednia\" ,np.mean(data_normal[label]),\n",
    "\"odchylenie\",np.std(data_normal[label], ddof=1) )\n",
    "\n",
    "print(\"Dla chorych\")\n",
    "print(  \"maksymalna wartosc\",np.max(data_sick[label]),\n",
    "\"minimalna\",np.min(data_sick[label]),\n",
    "\"srednia\" ,np.mean(data_sick[label]),\n",
    "\"odchylenie\",np.std(data_sick[label], ddof=1) )"
   ]
  },
  {
   "attachments": {},
   "cell_type": "markdown",
   "metadata": {},
   "source": [
    "Wzrost"
   ]
  },
  {
   "cell_type": "code",
   "execution_count": 461,
   "metadata": {},
   "outputs": [
    {
     "data": {
      "text/plain": [
       "<matplotlib.legend.Legend at 0x7fce35521a30>"
      ]
     },
     "execution_count": 461,
     "metadata": {},
     "output_type": "execute_result"
    },
    {
     "data": {
      "image/png": "[encoded data removed]",
      "text/plain": [
       "<Figure size 1500x500 with 1 Axes>"
      ]
     },
     "metadata": {},
     "output_type": "display_data"
    }
   ],
   "source": [
    "label=\"Height\"\n",
    "title=\"Wzrost\"\n",
    "xlabel=\"centymetry\"\n",
    "\n",
    "labels=[\"Wszyscy\",\"Zdrowy\",\"Zablokowana prawa odnoga pęczka Hisa\"]\n",
    "\n",
    "fig,axs=plt.subplots(1,1,figsize=[15,5])\n",
    "axs.hist([data[label],data_normal[label],data_sick[label]],bins=50,label=labels)\n",
    "axs.set_title(title)\n",
    "axs.set_xlabel(xlabel)\n",
    "axs.set_ylabel(\"liczba przypadków\")  \n",
    "axs.legend(loc='upper right')\n",
    "axs.legend(loc='upper left')   "
   ]
  },
  {
   "cell_type": "code",
   "execution_count": 462,
   "metadata": {},
   "outputs": [
    {
     "name": "stdout",
     "output_type": "stream",
     "text": [
      "Dla Całości\n",
      "maksymalna wartosc 780 minimalna 105 srednia 166.18805309734512 odchylenie 37.17034006678041\n",
      "Dla zdrowych\n",
      "maksymalna wartosc 186 minimalna 132 srednia 164.10204081632654 odchylenie 8.048125985816393\n",
      "Dla chorych\n",
      "maksymalna wartosc 190 minimalna 120 srednia 163.52 odchylenie 13.699754206047729\n"
     ]
    }
   ],
   "source": [
    "\n",
    "print(\"Dla Całości\")\n",
    "print(  \"maksymalna wartosc\",np.max(data[label]),\n",
    "\"minimalna\",np.min(data[label]),\n",
    "\"srednia\" ,np.mean(data[label]),\n",
    "\"odchylenie\",np.std(data[label], ddof=1) )\n",
    "\n",
    "print(\"Dla zdrowych\")\n",
    "print(  \"maksymalna wartosc\",np.max(data_normal[label]),\n",
    "\"minimalna\",np.min(data_normal[label]),\n",
    "\"srednia\" ,np.mean(data_normal[label]),\n",
    "\"odchylenie\",np.std(data_normal[label], ddof=1) )\n",
    "\n",
    "print(\"Dla chorych\")\n",
    "print(  \"maksymalna wartosc\",np.max(data_sick[label]),\n",
    "\"minimalna\",np.min(data_sick[label]),\n",
    "\"srednia\" ,np.mean(data_sick[label]),\n",
    "\"odchylenie\",np.std(data_sick[label], ddof=1) )"
   ]
  },
  {
   "cell_type": "code",
   "execution_count": 463,
   "metadata": {},
   "outputs": [
    {
     "data": {
      "text/html": [
       "<div>\n",
       "<style scoped>\n",
       "    .dataframe tbody tr th:only-of-type {\n",
       "        vertical-align: middle;\n",
       "    }\n",
       "\n",
       "    .dataframe tbody tr th {\n",
       "        vertical-align: top;\n",
       "    }\n",
       "\n",
       "    .dataframe thead th {\n",
       "        text-align: right;\n",
       "    }\n",
       "</style>\n",
       "<table border=\"1\" class=\"dataframe\">\n",
       "  <thead>\n",
       "    <tr style=\"text-align: right;\">\n",
       "      <th></th>\n",
       "      <th>Age</th>\n",
       "      <th>Sex</th>\n",
       "      <th>Height</th>\n",
       "      <th>Weight</th>\n",
       "      <th>QRS_duration</th>\n",
       "      <th>P-R_interval</th>\n",
       "      <th>Q-T_interval</th>\n",
       "      <th>T_interval</th>\n",
       "      <th>P_interval</th>\n",
       "      <th>QRS</th>\n",
       "      <th>...</th>\n",
       "      <th>V6_2_1</th>\n",
       "      <th>V6_2_2</th>\n",
       "      <th>V6_2_3</th>\n",
       "      <th>V6_2_4</th>\n",
       "      <th>V6_2_5</th>\n",
       "      <th>V6_2_6</th>\n",
       "      <th>V6_2_7</th>\n",
       "      <th>V6_2_8</th>\n",
       "      <th>V6_2_9</th>\n",
       "      <th>sicknes</th>\n",
       "    </tr>\n",
       "  </thead>\n",
       "  <tbody>\n",
       "    <tr>\n",
       "      <th>141</th>\n",
       "      <td>1</td>\n",
       "      <td>1</td>\n",
       "      <td>780</td>\n",
       "      <td>6</td>\n",
       "      <td>85</td>\n",
       "      <td>165</td>\n",
       "      <td>237</td>\n",
       "      <td>150</td>\n",
       "      <td>106</td>\n",
       "      <td>88</td>\n",
       "      <td>...</td>\n",
       "      <td>0.0</td>\n",
       "      <td>5.0</td>\n",
       "      <td>-4.6</td>\n",
       "      <td>0.0</td>\n",
       "      <td>0.0</td>\n",
       "      <td>1.3</td>\n",
       "      <td>0.7</td>\n",
       "      <td>2.7</td>\n",
       "      <td>5.5</td>\n",
       "      <td>5</td>\n",
       "    </tr>\n",
       "    <tr>\n",
       "      <th>316</th>\n",
       "      <td>0</td>\n",
       "      <td>0</td>\n",
       "      <td>608</td>\n",
       "      <td>10</td>\n",
       "      <td>83</td>\n",
       "      <td>126</td>\n",
       "      <td>232</td>\n",
       "      <td>128</td>\n",
       "      <td>60</td>\n",
       "      <td>125</td>\n",
       "      <td>...</td>\n",
       "      <td>-0.7</td>\n",
       "      <td>4.5</td>\n",
       "      <td>-5.5</td>\n",
       "      <td>0.0</td>\n",
       "      <td>0.0</td>\n",
       "      <td>0.5</td>\n",
       "      <td>2.5</td>\n",
       "      <td>-11.8</td>\n",
       "      <td>1.7</td>\n",
       "      <td>5</td>\n",
       "    </tr>\n",
       "  </tbody>\n",
       "</table>\n",
       "<p>2 rows × 279 columns</p>\n",
       "</div>"
      ],
      "text/plain": [
       "     Age  Sex  Height  Weight  QRS_duration  P-R_interval  Q-T_interval  \\\n",
       "141    1    1     780       6            85           165           237   \n",
       "316    0    0     608      10            83           126           232   \n",
       "\n",
       "     T_interval  P_interval  QRS  ...  V6_2_1  V6_2_2  V6_2_3  V6_2_4  V6_2_5  \\\n",
       "141         150         106   88  ...     0.0     5.0    -4.6     0.0     0.0   \n",
       "316         128          60  125  ...    -0.7     4.5    -5.5     0.0     0.0   \n",
       "\n",
       "     V6_2_6  V6_2_7  V6_2_8  V6_2_9  sicknes  \n",
       "141     1.3     0.7     2.7     5.5        5  \n",
       "316     0.5     2.5   -11.8     1.7        5  \n",
       "\n",
       "[2 rows x 279 columns]"
      ]
     },
     "execution_count": 463,
     "metadata": {},
     "output_type": "execute_result"
    }
   ],
   "source": [
    "data.loc[data[\"Height\"]>200]"
   ]
  },
  {
   "cell_type": "code",
   "execution_count": 464,
   "metadata": {},
   "outputs": [
    {
     "data": {
      "text/html": [
       "<div>\n",
       "<style scoped>\n",
       "    .dataframe tbody tr th:only-of-type {\n",
       "        vertical-align: middle;\n",
       "    }\n",
       "\n",
       "    .dataframe tbody tr th {\n",
       "        vertical-align: top;\n",
       "    }\n",
       "\n",
       "    .dataframe thead th {\n",
       "        text-align: right;\n",
       "    }\n",
       "</style>\n",
       "<table border=\"1\" class=\"dataframe\">\n",
       "  <thead>\n",
       "    <tr style=\"text-align: right;\">\n",
       "      <th></th>\n",
       "      <th>Age</th>\n",
       "      <th>Sex</th>\n",
       "      <th>Height</th>\n",
       "      <th>Weight</th>\n",
       "      <th>QRS_duration</th>\n",
       "      <th>P-R_interval</th>\n",
       "      <th>Q-T_interval</th>\n",
       "      <th>T_interval</th>\n",
       "      <th>P_interval</th>\n",
       "      <th>QRS</th>\n",
       "      <th>...</th>\n",
       "      <th>V6_2_1</th>\n",
       "      <th>V6_2_2</th>\n",
       "      <th>V6_2_3</th>\n",
       "      <th>V6_2_4</th>\n",
       "      <th>V6_2_5</th>\n",
       "      <th>V6_2_6</th>\n",
       "      <th>V6_2_7</th>\n",
       "      <th>V6_2_8</th>\n",
       "      <th>V6_2_9</th>\n",
       "      <th>sicknes</th>\n",
       "    </tr>\n",
       "  </thead>\n",
       "  <tbody>\n",
       "    <tr>\n",
       "      <th>60</th>\n",
       "      <td>1</td>\n",
       "      <td>0</td>\n",
       "      <td>110</td>\n",
       "      <td>10</td>\n",
       "      <td>80</td>\n",
       "      <td>121</td>\n",
       "      <td>287</td>\n",
       "      <td>156</td>\n",
       "      <td>67</td>\n",
       "      <td>126</td>\n",
       "      <td>...</td>\n",
       "      <td>-0.5</td>\n",
       "      <td>5.1</td>\n",
       "      <td>-4.8</td>\n",
       "      <td>0.0</td>\n",
       "      <td>0.0</td>\n",
       "      <td>0.8</td>\n",
       "      <td>0.9</td>\n",
       "      <td>-1.8</td>\n",
       "      <td>5.2</td>\n",
       "      <td>5</td>\n",
       "    </tr>\n",
       "    <tr>\n",
       "      <th>126</th>\n",
       "      <td>58</td>\n",
       "      <td>0</td>\n",
       "      <td>186</td>\n",
       "      <td>18</td>\n",
       "      <td>87</td>\n",
       "      <td>166</td>\n",
       "      <td>372</td>\n",
       "      <td>150</td>\n",
       "      <td>96</td>\n",
       "      <td>-1</td>\n",
       "      <td>...</td>\n",
       "      <td>-0.8</td>\n",
       "      <td>6.3</td>\n",
       "      <td>-2.9</td>\n",
       "      <td>0.0</td>\n",
       "      <td>0.0</td>\n",
       "      <td>0.7</td>\n",
       "      <td>1.4</td>\n",
       "      <td>5.7</td>\n",
       "      <td>15.7</td>\n",
       "      <td>1</td>\n",
       "    </tr>\n",
       "    <tr>\n",
       "      <th>141</th>\n",
       "      <td>1</td>\n",
       "      <td>1</td>\n",
       "      <td>780</td>\n",
       "      <td>6</td>\n",
       "      <td>85</td>\n",
       "      <td>165</td>\n",
       "      <td>237</td>\n",
       "      <td>150</td>\n",
       "      <td>106</td>\n",
       "      <td>88</td>\n",
       "      <td>...</td>\n",
       "      <td>0.0</td>\n",
       "      <td>5.0</td>\n",
       "      <td>-4.6</td>\n",
       "      <td>0.0</td>\n",
       "      <td>0.0</td>\n",
       "      <td>1.3</td>\n",
       "      <td>0.7</td>\n",
       "      <td>2.7</td>\n",
       "      <td>5.5</td>\n",
       "      <td>5</td>\n",
       "    </tr>\n",
       "    <tr>\n",
       "      <th>210</th>\n",
       "      <td>11</td>\n",
       "      <td>1</td>\n",
       "      <td>124</td>\n",
       "      <td>25</td>\n",
       "      <td>90</td>\n",
       "      <td>161</td>\n",
       "      <td>349</td>\n",
       "      <td>209</td>\n",
       "      <td>98</td>\n",
       "      <td>80</td>\n",
       "      <td>...</td>\n",
       "      <td>0.0</td>\n",
       "      <td>8.6</td>\n",
       "      <td>-4.6</td>\n",
       "      <td>0.0</td>\n",
       "      <td>0.0</td>\n",
       "      <td>0.6</td>\n",
       "      <td>4.2</td>\n",
       "      <td>3.5</td>\n",
       "      <td>42.1</td>\n",
       "      <td>10</td>\n",
       "    </tr>\n",
       "    <tr>\n",
       "      <th>316</th>\n",
       "      <td>0</td>\n",
       "      <td>0</td>\n",
       "      <td>608</td>\n",
       "      <td>10</td>\n",
       "      <td>83</td>\n",
       "      <td>126</td>\n",
       "      <td>232</td>\n",
       "      <td>128</td>\n",
       "      <td>60</td>\n",
       "      <td>125</td>\n",
       "      <td>...</td>\n",
       "      <td>-0.7</td>\n",
       "      <td>4.5</td>\n",
       "      <td>-5.5</td>\n",
       "      <td>0.0</td>\n",
       "      <td>0.0</td>\n",
       "      <td>0.5</td>\n",
       "      <td>2.5</td>\n",
       "      <td>-11.8</td>\n",
       "      <td>1.7</td>\n",
       "      <td>5</td>\n",
       "    </tr>\n",
       "    <tr>\n",
       "      <th>320</th>\n",
       "      <td>3</td>\n",
       "      <td>0</td>\n",
       "      <td>105</td>\n",
       "      <td>12</td>\n",
       "      <td>69</td>\n",
       "      <td>155</td>\n",
       "      <td>240</td>\n",
       "      <td>133</td>\n",
       "      <td>64</td>\n",
       "      <td>93</td>\n",
       "      <td>...</td>\n",
       "      <td>0.0</td>\n",
       "      <td>3.3</td>\n",
       "      <td>0.0</td>\n",
       "      <td>0.0</td>\n",
       "      <td>0.0</td>\n",
       "      <td>1.1</td>\n",
       "      <td>-0.1</td>\n",
       "      <td>5.9</td>\n",
       "      <td>5.4</td>\n",
       "      <td>5</td>\n",
       "    </tr>\n",
       "    <tr>\n",
       "      <th>379</th>\n",
       "      <td>8</td>\n",
       "      <td>0</td>\n",
       "      <td>120</td>\n",
       "      <td>28</td>\n",
       "      <td>118</td>\n",
       "      <td>126</td>\n",
       "      <td>303</td>\n",
       "      <td>164</td>\n",
       "      <td>80</td>\n",
       "      <td>120</td>\n",
       "      <td>...</td>\n",
       "      <td>-0.6</td>\n",
       "      <td>12.5</td>\n",
       "      <td>-3.6</td>\n",
       "      <td>0.0</td>\n",
       "      <td>0.0</td>\n",
       "      <td>0.5</td>\n",
       "      <td>2.3</td>\n",
       "      <td>9.2</td>\n",
       "      <td>32.2</td>\n",
       "      <td>10</td>\n",
       "    </tr>\n",
       "    <tr>\n",
       "      <th>401</th>\n",
       "      <td>9</td>\n",
       "      <td>0</td>\n",
       "      <td>120</td>\n",
       "      <td>25</td>\n",
       "      <td>95</td>\n",
       "      <td>118</td>\n",
       "      <td>347</td>\n",
       "      <td>156</td>\n",
       "      <td>66</td>\n",
       "      <td>84</td>\n",
       "      <td>...</td>\n",
       "      <td>-1.9</td>\n",
       "      <td>16.5</td>\n",
       "      <td>-1.4</td>\n",
       "      <td>0.0</td>\n",
       "      <td>0.0</td>\n",
       "      <td>0.4</td>\n",
       "      <td>3.0</td>\n",
       "      <td>25.3</td>\n",
       "      <td>49.9</td>\n",
       "      <td>14</td>\n",
       "    </tr>\n",
       "    <tr>\n",
       "      <th>403</th>\n",
       "      <td>7</td>\n",
       "      <td>1</td>\n",
       "      <td>127</td>\n",
       "      <td>22</td>\n",
       "      <td>185</td>\n",
       "      <td>204</td>\n",
       "      <td>284</td>\n",
       "      <td>123</td>\n",
       "      <td>72</td>\n",
       "      <td>-172</td>\n",
       "      <td>...</td>\n",
       "      <td>0.0</td>\n",
       "      <td>3.9</td>\n",
       "      <td>-15.0</td>\n",
       "      <td>0.0</td>\n",
       "      <td>0.0</td>\n",
       "      <td>-0.8</td>\n",
       "      <td>3.6</td>\n",
       "      <td>-36.6</td>\n",
       "      <td>-20.1</td>\n",
       "      <td>5</td>\n",
       "    </tr>\n",
       "    <tr>\n",
       "      <th>424</th>\n",
       "      <td>7</td>\n",
       "      <td>0</td>\n",
       "      <td>119</td>\n",
       "      <td>21</td>\n",
       "      <td>140</td>\n",
       "      <td>157</td>\n",
       "      <td>438</td>\n",
       "      <td>226</td>\n",
       "      <td>81</td>\n",
       "      <td>-40</td>\n",
       "      <td>...</td>\n",
       "      <td>0.0</td>\n",
       "      <td>10.0</td>\n",
       "      <td>-2.1</td>\n",
       "      <td>0.0</td>\n",
       "      <td>0.0</td>\n",
       "      <td>1.0</td>\n",
       "      <td>5.5</td>\n",
       "      <td>36.7</td>\n",
       "      <td>115.9</td>\n",
       "      <td>9</td>\n",
       "    </tr>\n",
       "    <tr>\n",
       "      <th>429</th>\n",
       "      <td>8</td>\n",
       "      <td>1</td>\n",
       "      <td>130</td>\n",
       "      <td>24</td>\n",
       "      <td>77</td>\n",
       "      <td>125</td>\n",
       "      <td>358</td>\n",
       "      <td>159</td>\n",
       "      <td>70</td>\n",
       "      <td>87</td>\n",
       "      <td>...</td>\n",
       "      <td>0.0</td>\n",
       "      <td>11.3</td>\n",
       "      <td>-2.1</td>\n",
       "      <td>0.0</td>\n",
       "      <td>0.0</td>\n",
       "      <td>0.7</td>\n",
       "      <td>3.6</td>\n",
       "      <td>16.1</td>\n",
       "      <td>49.2</td>\n",
       "      <td>16</td>\n",
       "    </tr>\n",
       "    <tr>\n",
       "      <th>430</th>\n",
       "      <td>11</td>\n",
       "      <td>0</td>\n",
       "      <td>138</td>\n",
       "      <td>29</td>\n",
       "      <td>123</td>\n",
       "      <td>145</td>\n",
       "      <td>361</td>\n",
       "      <td>221</td>\n",
       "      <td>80</td>\n",
       "      <td>112</td>\n",
       "      <td>...</td>\n",
       "      <td>-3.4</td>\n",
       "      <td>19.6</td>\n",
       "      <td>-4.2</td>\n",
       "      <td>0.0</td>\n",
       "      <td>0.0</td>\n",
       "      <td>0.2</td>\n",
       "      <td>1.8</td>\n",
       "      <td>12.2</td>\n",
       "      <td>25.1</td>\n",
       "      <td>10</td>\n",
       "    </tr>\n",
       "  </tbody>\n",
       "</table>\n",
       "<p>12 rows × 279 columns</p>\n",
       "</div>"
      ],
      "text/plain": [
       "     Age  Sex  Height  Weight  QRS_duration  P-R_interval  Q-T_interval  \\\n",
       "60     1    0     110      10            80           121           287   \n",
       "126   58    0     186      18            87           166           372   \n",
       "141    1    1     780       6            85           165           237   \n",
       "210   11    1     124      25            90           161           349   \n",
       "316    0    0     608      10            83           126           232   \n",
       "320    3    0     105      12            69           155           240   \n",
       "379    8    0     120      28           118           126           303   \n",
       "401    9    0     120      25            95           118           347   \n",
       "403    7    1     127      22           185           204           284   \n",
       "424    7    0     119      21           140           157           438   \n",
       "429    8    1     130      24            77           125           358   \n",
       "430   11    0     138      29           123           145           361   \n",
       "\n",
       "     T_interval  P_interval  QRS  ...  V6_2_1  V6_2_2  V6_2_3  V6_2_4  V6_2_5  \\\n",
       "60          156          67  126  ...    -0.5     5.1    -4.8     0.0     0.0   \n",
       "126         150          96   -1  ...    -0.8     6.3    -2.9     0.0     0.0   \n",
       "141         150         106   88  ...     0.0     5.0    -4.6     0.0     0.0   \n",
       "210         209          98   80  ...     0.0     8.6    -4.6     0.0     0.0   \n",
       "316         128          60  125  ...    -0.7     4.5    -5.5     0.0     0.0   \n",
       "320         133          64   93  ...     0.0     3.3     0.0     0.0     0.0   \n",
       "379         164          80  120  ...    -0.6    12.5    -3.6     0.0     0.0   \n",
       "401         156          66   84  ...    -1.9    16.5    -1.4     0.0     0.0   \n",
       "403         123          72 -172  ...     0.0     3.9   -15.0     0.0     0.0   \n",
       "424         226          81  -40  ...     0.0    10.0    -2.1     0.0     0.0   \n",
       "429         159          70   87  ...     0.0    11.3    -2.1     0.0     0.0   \n",
       "430         221          80  112  ...    -3.4    19.6    -4.2     0.0     0.0   \n",
       "\n",
       "     V6_2_6  V6_2_7  V6_2_8  V6_2_9  sicknes  \n",
       "60      0.8     0.9    -1.8     5.2        5  \n",
       "126     0.7     1.4     5.7    15.7        1  \n",
       "141     1.3     0.7     2.7     5.5        5  \n",
       "210     0.6     4.2     3.5    42.1       10  \n",
       "316     0.5     2.5   -11.8     1.7        5  \n",
       "320     1.1    -0.1     5.9     5.4        5  \n",
       "379     0.5     2.3     9.2    32.2       10  \n",
       "401     0.4     3.0    25.3    49.9       14  \n",
       "403    -0.8     3.6   -36.6   -20.1        5  \n",
       "424     1.0     5.5    36.7   115.9        9  \n",
       "429     0.7     3.6    16.1    49.2       16  \n",
       "430     0.2     1.8    12.2    25.1       10  \n",
       "\n",
       "[12 rows x 279 columns]"
      ]
     },
     "execution_count": 464,
     "metadata": {},
     "output_type": "execute_result"
    }
   ],
   "source": [
    "data.loc[data[\"Weight\"]<30]"
   ]
  },
  {
   "cell_type": "code",
   "execution_count": 465,
   "metadata": {},
   "outputs": [
    {
     "name": "stderr",
     "output_type": "stream",
     "text": [
      "/tmp/ipykernel_27638/819637169.py:2: SettingWithCopyWarning: \n",
      "A value is trying to be set on a copy of a slice from a DataFrame\n",
      "\n",
      "See the caveats in the documentation: https://pandas.pydata.org/pandas-docs/stable/user_guide/indexing.html#returning-a-view-versus-a-copy\n",
      "  data[\"Height\"][141]=90\n",
      "/tmp/ipykernel_27638/819637169.py:3: SettingWithCopyWarning: \n",
      "A value is trying to be set on a copy of a slice from a DataFrame\n",
      "\n",
      "See the caveats in the documentation: https://pandas.pydata.org/pandas-docs/stable/user_guide/indexing.html#returning-a-view-versus-a-copy\n",
      "  data[\"Height\"][316]=100\n"
     ]
    }
   ],
   "source": [
    "data=data.drop(126)\n",
    "data[\"Height\"][141]=90\n",
    "data[\"Height\"][316]=100"
   ]
  },
  {
   "cell_type": "code",
   "execution_count": 466,
   "metadata": {},
   "outputs": [
    {
     "data": {
      "text/html": [
       "<div>\n",
       "<style scoped>\n",
       "    .dataframe tbody tr th:only-of-type {\n",
       "        vertical-align: middle;\n",
       "    }\n",
       "\n",
       "    .dataframe tbody tr th {\n",
       "        vertical-align: top;\n",
       "    }\n",
       "\n",
       "    .dataframe thead th {\n",
       "        text-align: right;\n",
       "    }\n",
       "</style>\n",
       "<table border=\"1\" class=\"dataframe\">\n",
       "  <thead>\n",
       "    <tr style=\"text-align: right;\">\n",
       "      <th></th>\n",
       "      <th>Age</th>\n",
       "      <th>Sex</th>\n",
       "      <th>Height</th>\n",
       "      <th>Weight</th>\n",
       "      <th>QRS_duration</th>\n",
       "      <th>P-R_interval</th>\n",
       "      <th>Q-T_interval</th>\n",
       "      <th>T_interval</th>\n",
       "      <th>P_interval</th>\n",
       "      <th>QRS</th>\n",
       "      <th>...</th>\n",
       "      <th>V6_2_1</th>\n",
       "      <th>V6_2_2</th>\n",
       "      <th>V6_2_3</th>\n",
       "      <th>V6_2_4</th>\n",
       "      <th>V6_2_5</th>\n",
       "      <th>V6_2_6</th>\n",
       "      <th>V6_2_7</th>\n",
       "      <th>V6_2_8</th>\n",
       "      <th>V6_2_9</th>\n",
       "      <th>sicknes</th>\n",
       "    </tr>\n",
       "  </thead>\n",
       "  <tbody>\n",
       "    <tr>\n",
       "      <th>60</th>\n",
       "      <td>1</td>\n",
       "      <td>0</td>\n",
       "      <td>110</td>\n",
       "      <td>10</td>\n",
       "      <td>80</td>\n",
       "      <td>121</td>\n",
       "      <td>287</td>\n",
       "      <td>156</td>\n",
       "      <td>67</td>\n",
       "      <td>126</td>\n",
       "      <td>...</td>\n",
       "      <td>-0.5</td>\n",
       "      <td>5.1</td>\n",
       "      <td>-4.8</td>\n",
       "      <td>0.0</td>\n",
       "      <td>0.0</td>\n",
       "      <td>0.8</td>\n",
       "      <td>0.9</td>\n",
       "      <td>-1.8</td>\n",
       "      <td>5.2</td>\n",
       "      <td>5</td>\n",
       "    </tr>\n",
       "    <tr>\n",
       "      <th>141</th>\n",
       "      <td>1</td>\n",
       "      <td>1</td>\n",
       "      <td>90</td>\n",
       "      <td>6</td>\n",
       "      <td>85</td>\n",
       "      <td>165</td>\n",
       "      <td>237</td>\n",
       "      <td>150</td>\n",
       "      <td>106</td>\n",
       "      <td>88</td>\n",
       "      <td>...</td>\n",
       "      <td>0.0</td>\n",
       "      <td>5.0</td>\n",
       "      <td>-4.6</td>\n",
       "      <td>0.0</td>\n",
       "      <td>0.0</td>\n",
       "      <td>1.3</td>\n",
       "      <td>0.7</td>\n",
       "      <td>2.7</td>\n",
       "      <td>5.5</td>\n",
       "      <td>5</td>\n",
       "    </tr>\n",
       "    <tr>\n",
       "      <th>210</th>\n",
       "      <td>11</td>\n",
       "      <td>1</td>\n",
       "      <td>124</td>\n",
       "      <td>25</td>\n",
       "      <td>90</td>\n",
       "      <td>161</td>\n",
       "      <td>349</td>\n",
       "      <td>209</td>\n",
       "      <td>98</td>\n",
       "      <td>80</td>\n",
       "      <td>...</td>\n",
       "      <td>0.0</td>\n",
       "      <td>8.6</td>\n",
       "      <td>-4.6</td>\n",
       "      <td>0.0</td>\n",
       "      <td>0.0</td>\n",
       "      <td>0.6</td>\n",
       "      <td>4.2</td>\n",
       "      <td>3.5</td>\n",
       "      <td>42.1</td>\n",
       "      <td>10</td>\n",
       "    </tr>\n",
       "    <tr>\n",
       "      <th>316</th>\n",
       "      <td>0</td>\n",
       "      <td>0</td>\n",
       "      <td>100</td>\n",
       "      <td>10</td>\n",
       "      <td>83</td>\n",
       "      <td>126</td>\n",
       "      <td>232</td>\n",
       "      <td>128</td>\n",
       "      <td>60</td>\n",
       "      <td>125</td>\n",
       "      <td>...</td>\n",
       "      <td>-0.7</td>\n",
       "      <td>4.5</td>\n",
       "      <td>-5.5</td>\n",
       "      <td>0.0</td>\n",
       "      <td>0.0</td>\n",
       "      <td>0.5</td>\n",
       "      <td>2.5</td>\n",
       "      <td>-11.8</td>\n",
       "      <td>1.7</td>\n",
       "      <td>5</td>\n",
       "    </tr>\n",
       "    <tr>\n",
       "      <th>320</th>\n",
       "      <td>3</td>\n",
       "      <td>0</td>\n",
       "      <td>105</td>\n",
       "      <td>12</td>\n",
       "      <td>69</td>\n",
       "      <td>155</td>\n",
       "      <td>240</td>\n",
       "      <td>133</td>\n",
       "      <td>64</td>\n",
       "      <td>93</td>\n",
       "      <td>...</td>\n",
       "      <td>0.0</td>\n",
       "      <td>3.3</td>\n",
       "      <td>0.0</td>\n",
       "      <td>0.0</td>\n",
       "      <td>0.0</td>\n",
       "      <td>1.1</td>\n",
       "      <td>-0.1</td>\n",
       "      <td>5.9</td>\n",
       "      <td>5.4</td>\n",
       "      <td>5</td>\n",
       "    </tr>\n",
       "    <tr>\n",
       "      <th>379</th>\n",
       "      <td>8</td>\n",
       "      <td>0</td>\n",
       "      <td>120</td>\n",
       "      <td>28</td>\n",
       "      <td>118</td>\n",
       "      <td>126</td>\n",
       "      <td>303</td>\n",
       "      <td>164</td>\n",
       "      <td>80</td>\n",
       "      <td>120</td>\n",
       "      <td>...</td>\n",
       "      <td>-0.6</td>\n",
       "      <td>12.5</td>\n",
       "      <td>-3.6</td>\n",
       "      <td>0.0</td>\n",
       "      <td>0.0</td>\n",
       "      <td>0.5</td>\n",
       "      <td>2.3</td>\n",
       "      <td>9.2</td>\n",
       "      <td>32.2</td>\n",
       "      <td>10</td>\n",
       "    </tr>\n",
       "    <tr>\n",
       "      <th>401</th>\n",
       "      <td>9</td>\n",
       "      <td>0</td>\n",
       "      <td>120</td>\n",
       "      <td>25</td>\n",
       "      <td>95</td>\n",
       "      <td>118</td>\n",
       "      <td>347</td>\n",
       "      <td>156</td>\n",
       "      <td>66</td>\n",
       "      <td>84</td>\n",
       "      <td>...</td>\n",
       "      <td>-1.9</td>\n",
       "      <td>16.5</td>\n",
       "      <td>-1.4</td>\n",
       "      <td>0.0</td>\n",
       "      <td>0.0</td>\n",
       "      <td>0.4</td>\n",
       "      <td>3.0</td>\n",
       "      <td>25.3</td>\n",
       "      <td>49.9</td>\n",
       "      <td>14</td>\n",
       "    </tr>\n",
       "    <tr>\n",
       "      <th>403</th>\n",
       "      <td>7</td>\n",
       "      <td>1</td>\n",
       "      <td>127</td>\n",
       "      <td>22</td>\n",
       "      <td>185</td>\n",
       "      <td>204</td>\n",
       "      <td>284</td>\n",
       "      <td>123</td>\n",
       "      <td>72</td>\n",
       "      <td>-172</td>\n",
       "      <td>...</td>\n",
       "      <td>0.0</td>\n",
       "      <td>3.9</td>\n",
       "      <td>-15.0</td>\n",
       "      <td>0.0</td>\n",
       "      <td>0.0</td>\n",
       "      <td>-0.8</td>\n",
       "      <td>3.6</td>\n",
       "      <td>-36.6</td>\n",
       "      <td>-20.1</td>\n",
       "      <td>5</td>\n",
       "    </tr>\n",
       "    <tr>\n",
       "      <th>424</th>\n",
       "      <td>7</td>\n",
       "      <td>0</td>\n",
       "      <td>119</td>\n",
       "      <td>21</td>\n",
       "      <td>140</td>\n",
       "      <td>157</td>\n",
       "      <td>438</td>\n",
       "      <td>226</td>\n",
       "      <td>81</td>\n",
       "      <td>-40</td>\n",
       "      <td>...</td>\n",
       "      <td>0.0</td>\n",
       "      <td>10.0</td>\n",
       "      <td>-2.1</td>\n",
       "      <td>0.0</td>\n",
       "      <td>0.0</td>\n",
       "      <td>1.0</td>\n",
       "      <td>5.5</td>\n",
       "      <td>36.7</td>\n",
       "      <td>115.9</td>\n",
       "      <td>9</td>\n",
       "    </tr>\n",
       "    <tr>\n",
       "      <th>429</th>\n",
       "      <td>8</td>\n",
       "      <td>1</td>\n",
       "      <td>130</td>\n",
       "      <td>24</td>\n",
       "      <td>77</td>\n",
       "      <td>125</td>\n",
       "      <td>358</td>\n",
       "      <td>159</td>\n",
       "      <td>70</td>\n",
       "      <td>87</td>\n",
       "      <td>...</td>\n",
       "      <td>0.0</td>\n",
       "      <td>11.3</td>\n",
       "      <td>-2.1</td>\n",
       "      <td>0.0</td>\n",
       "      <td>0.0</td>\n",
       "      <td>0.7</td>\n",
       "      <td>3.6</td>\n",
       "      <td>16.1</td>\n",
       "      <td>49.2</td>\n",
       "      <td>16</td>\n",
       "    </tr>\n",
       "    <tr>\n",
       "      <th>430</th>\n",
       "      <td>11</td>\n",
       "      <td>0</td>\n",
       "      <td>138</td>\n",
       "      <td>29</td>\n",
       "      <td>123</td>\n",
       "      <td>145</td>\n",
       "      <td>361</td>\n",
       "      <td>221</td>\n",
       "      <td>80</td>\n",
       "      <td>112</td>\n",
       "      <td>...</td>\n",
       "      <td>-3.4</td>\n",
       "      <td>19.6</td>\n",
       "      <td>-4.2</td>\n",
       "      <td>0.0</td>\n",
       "      <td>0.0</td>\n",
       "      <td>0.2</td>\n",
       "      <td>1.8</td>\n",
       "      <td>12.2</td>\n",
       "      <td>25.1</td>\n",
       "      <td>10</td>\n",
       "    </tr>\n",
       "  </tbody>\n",
       "</table>\n",
       "<p>11 rows × 279 columns</p>\n",
       "</div>"
      ],
      "text/plain": [
       "     Age  Sex  Height  Weight  QRS_duration  P-R_interval  Q-T_interval  \\\n",
       "60     1    0     110      10            80           121           287   \n",
       "141    1    1      90       6            85           165           237   \n",
       "210   11    1     124      25            90           161           349   \n",
       "316    0    0     100      10            83           126           232   \n",
       "320    3    0     105      12            69           155           240   \n",
       "379    8    0     120      28           118           126           303   \n",
       "401    9    0     120      25            95           118           347   \n",
       "403    7    1     127      22           185           204           284   \n",
       "424    7    0     119      21           140           157           438   \n",
       "429    8    1     130      24            77           125           358   \n",
       "430   11    0     138      29           123           145           361   \n",
       "\n",
       "     T_interval  P_interval  QRS  ...  V6_2_1  V6_2_2  V6_2_3  V6_2_4  V6_2_5  \\\n",
       "60          156          67  126  ...    -0.5     5.1    -4.8     0.0     0.0   \n",
       "141         150         106   88  ...     0.0     5.0    -4.6     0.0     0.0   \n",
       "210         209          98   80  ...     0.0     8.6    -4.6     0.0     0.0   \n",
       "316         128          60  125  ...    -0.7     4.5    -5.5     0.0     0.0   \n",
       "320         133          64   93  ...     0.0     3.3     0.0     0.0     0.0   \n",
       "379         164          80  120  ...    -0.6    12.5    -3.6     0.0     0.0   \n",
       "401         156          66   84  ...    -1.9    16.5    -1.4     0.0     0.0   \n",
       "403         123          72 -172  ...     0.0     3.9   -15.0     0.0     0.0   \n",
       "424         226          81  -40  ...     0.0    10.0    -2.1     0.0     0.0   \n",
       "429         159          70   87  ...     0.0    11.3    -2.1     0.0     0.0   \n",
       "430         221          80  112  ...    -3.4    19.6    -4.2     0.0     0.0   \n",
       "\n",
       "     V6_2_6  V6_2_7  V6_2_8  V6_2_9  sicknes  \n",
       "60      0.8     0.9    -1.8     5.2        5  \n",
       "141     1.3     0.7     2.7     5.5        5  \n",
       "210     0.6     4.2     3.5    42.1       10  \n",
       "316     0.5     2.5   -11.8     1.7        5  \n",
       "320     1.1    -0.1     5.9     5.4        5  \n",
       "379     0.5     2.3     9.2    32.2       10  \n",
       "401     0.4     3.0    25.3    49.9       14  \n",
       "403    -0.8     3.6   -36.6   -20.1        5  \n",
       "424     1.0     5.5    36.7   115.9        9  \n",
       "429     0.7     3.6    16.1    49.2       16  \n",
       "430     0.2     1.8    12.2    25.1       10  \n",
       "\n",
       "[11 rows x 279 columns]"
      ]
     },
     "execution_count": 466,
     "metadata": {},
     "output_type": "execute_result"
    }
   ],
   "source": [
    "data.loc[data[\"Weight\"]<30]"
   ]
  },
  {
   "attachments": {},
   "cell_type": "markdown",
   "metadata": {},
   "source": [
    "Waga"
   ]
  },
  {
   "cell_type": "code",
   "execution_count": 467,
   "metadata": {},
   "outputs": [
    {
     "data": {
      "text/plain": [
       "<matplotlib.legend.Legend at 0x7fce352c1940>"
      ]
     },
     "execution_count": 467,
     "metadata": {},
     "output_type": "execute_result"
    },
    {
     "data": {
      "image/png": "[encoded data removed]",
      "text/plain": [
       "<Figure size 1500x500 with 1 Axes>"
      ]
     },
     "metadata": {},
     "output_type": "display_data"
    }
   ],
   "source": [
    "label=\"Weight\"\n",
    "title=\"Waga\"\n",
    "xlabel=\"kilogramy\"\n",
    "\n",
    "labels=[\"Wszyscy\",\"Zdrowy\",\"Zablokowana prawa odnoga pęczka Hisa\"]\n",
    "\n",
    "fig,axs=plt.subplots(1,1,figsize=[15,5])\n",
    "axs.hist([data[label],data_normal[label],data_sick[label]],bins=50,label=labels)\n",
    "axs.set_title(title)\n",
    "axs.set_xlabel(xlabel)\n",
    "axs.set_ylabel(\"liczba przypadków\")  \n",
    "axs.legend(loc='upper right')\n",
    "axs.legend(loc='upper left')   "
   ]
  },
  {
   "cell_type": "code",
   "execution_count": 468,
   "metadata": {},
   "outputs": [
    {
     "name": "stdout",
     "output_type": "stream",
     "text": [
      "Dla Całości\n",
      "maksymalna wartosc 176 minimalna 6 srednia 68.28159645232816 odchylenie 16.439602404664598\n",
      "Dla zdrowych\n",
      "maksymalna wartosc 124 minimalna 18 srednia 68.66938775510204 odchylenie 14.454595447180552\n",
      "Dla chorych\n",
      "maksymalna wartosc 95 minimalna 25 srednia 63.3 odchylenie 16.579123829044025\n"
     ]
    }
   ],
   "source": [
    "\n",
    "print(\"Dla Całości\")\n",
    "print(  \"maksymalna wartosc\",np.max(data[label]),\n",
    "\"minimalna\",np.min(data[label]),\n",
    "\"srednia\" ,np.mean(data[label]),\n",
    "\"odchylenie\",np.std(data[label], ddof=1) )\n",
    "\n",
    "print(\"Dla zdrowych\")\n",
    "print(  \"maksymalna wartosc\",np.max(data_normal[label]),\n",
    "\"minimalna\",np.min(data_normal[label]),\n",
    "\"srednia\" ,np.mean(data_normal[label]),\n",
    "\"odchylenie\",np.std(data_normal[label], ddof=1) )\n",
    "\n",
    "print(\"Dla chorych\")\n",
    "print(  \"maksymalna wartosc\",np.max(data_sick[label]),\n",
    "\"minimalna\",np.min(data_sick[label]),\n",
    "\"srednia\" ,np.mean(data_sick[label]),\n",
    "\"odchylenie\",np.std(data_sick[label], ddof=1) )"
   ]
  },
  {
   "attachments": {},
   "cell_type": "markdown",
   "metadata": {},
   "source": [
    "Czas trwania odcinka QRS"
   ]
  },
  {
   "cell_type": "code",
   "execution_count": 469,
   "metadata": {},
   "outputs": [
    {
     "data": {
      "text/plain": [
       "<matplotlib.legend.Legend at 0x7fce355c1640>"
      ]
     },
     "execution_count": 469,
     "metadata": {},
     "output_type": "execute_result"
    },
    {
     "data": {
      "image/png": "[encoded data removed]",
      "text/plain": [
       "<Figure size 1500x500 with 1 Axes>"
      ]
     },
     "metadata": {},
     "output_type": "display_data"
    }
   ],
   "source": [
    "label=\"QRS_duration\"\n",
    "title=\"Długość odcinka QRS\"\n",
    "xlabel=\"milisekundy\"\n",
    "\n",
    "labels=[\"Wszyscy\",\"Zdrowy\",\"Zablokowana prawa odnoga pęczka Hisa\"]\n",
    "\n",
    "fig,axs=plt.subplots(1,1,figsize=[15,5])\n",
    "axs.hist([data[label],data_normal[label],data_sick[label]],bins=50,label=labels)\n",
    "axs.set_title(title)\n",
    "axs.set_xlabel(xlabel)\n",
    "axs.set_ylabel(\"liczba przypadków\")  \n",
    "axs.legend(loc='upper right')\n",
    "axs.legend(loc='upper left')   "
   ]
  },
  {
   "cell_type": "code",
   "execution_count": 470,
   "metadata": {},
   "outputs": [
    {
     "name": "stdout",
     "output_type": "stream",
     "text": [
      "Dla Całości\n",
      "maksymalna wartosc 188 minimalna 55 srednia 88.92461197339246 odchylenie 15.381188857901527\n",
      "Dla zdrowych\n",
      "maksymalna wartosc 113 minimalna 55 srednia 84.27755102040817 odchylenie 8.735439062649531\n",
      "Dla chorych\n",
      "maksymalna wartosc 138 minimalna 72 srednia 97.58 odchylenie 15.129495452693103\n"
     ]
    }
   ],
   "source": [
    "\n",
    "print(\"Dla Całości\")\n",
    "print(  \"maksymalna wartosc\",np.max(data[label]),\n",
    "\"minimalna\",np.min(data[label]),\n",
    "\"srednia\" ,np.mean(data[label]),\n",
    "\"odchylenie\",np.std(data[label], ddof=1) )\n",
    "\n",
    "print(\"Dla zdrowych\")\n",
    "print(  \"maksymalna wartosc\",np.max(data_normal[label]),\n",
    "\"minimalna\",np.min(data_normal[label]),\n",
    "\"srednia\" ,np.mean(data_normal[label]),\n",
    "\"odchylenie\",np.std(data_normal[label], ddof=1) )\n",
    "\n",
    "print(\"Dla chorych\")\n",
    "print(  \"maksymalna wartosc\",np.max(data_sick[label]),\n",
    "\"minimalna\",np.min(data_sick[label]),\n",
    "\"srednia\" ,np.mean(data_sick[label]),\n",
    "\"odchylenie\",np.std(data_sick[label], ddof=1) )"
   ]
  },
  {
   "attachments": {},
   "cell_type": "markdown",
   "metadata": {},
   "source": [
    "P-R interwał"
   ]
  },
  {
   "cell_type": "code",
   "execution_count": 471,
   "metadata": {},
   "outputs": [
    {
     "data": {
      "text/plain": [
       "<matplotlib.legend.Legend at 0x7fce35d24b80>"
      ]
     },
     "execution_count": 471,
     "metadata": {},
     "output_type": "execute_result"
    },
    {
     "data": {
      "image/png": "[encoded data removed]",
      "text/plain": [
       "<Figure size 1500x500 with 1 Axes>"
      ]
     },
     "metadata": {},
     "output_type": "display_data"
    }
   ],
   "source": [
    "label=\"P-R_interval\"\n",
    "title=\"P-R interwał\"\n",
    "xlabel=\"milisekundy\"\n",
    "\n",
    "labels=[\"Wszyscy\",\"Zdrowy\",\"Zablokowana prawa odnoga pęczka Hisa\"]\n",
    "\n",
    "fig,axs=plt.subplots(1,1,figsize=[15,5])\n",
    "axs.hist([data[label],data_normal[label],data_sick[label]],bins=50,label=labels)\n",
    "axs.set_title(title)\n",
    "axs.set_xlabel(xlabel)\n",
    "axs.set_ylabel(\"liczba przypadków\")  \n",
    "axs.legend(loc='upper right')\n",
    "axs.legend(loc='upper left')   "
   ]
  },
  {
   "cell_type": "code",
   "execution_count": 472,
   "metadata": {},
   "outputs": [
    {
     "name": "stdout",
     "output_type": "stream",
     "text": [
      "Dla Całości\n",
      "maksymalna wartosc 524 minimalna 0 srednia 155.12860310421286 odchylenie 44.889160805500964\n",
      "Dla zdrowych\n",
      "maksymalna wartosc 524 minimalna 0 srednia 157.21632653061224 odchylenie 44.745158850412835\n",
      "Dla chorych\n",
      "maksymalna wartosc 204 minimalna 0 srednia 148.74 odchylenie 43.71793168735694\n"
     ]
    }
   ],
   "source": [
    "print(\"Dla Całości\")\n",
    "print(  \"maksymalna wartosc\",np.max(data[label]),\n",
    "\"minimalna\",np.min(data[label]),\n",
    "\"srednia\" ,np.mean(data[label]),\n",
    "\"odchylenie\",np.std(data[label], ddof=1) )\n",
    "\n",
    "print(\"Dla zdrowych\")\n",
    "print(  \"maksymalna wartosc\",np.max(data_normal[label]),\n",
    "\"minimalna\",np.min(data_normal[label]),\n",
    "\"srednia\" ,np.mean(data_normal[label]),\n",
    "\"odchylenie\",np.std(data_normal[label], ddof=1) )\n",
    "\n",
    "print(\"Dla chorych\")\n",
    "print(  \"maksymalna wartosc\",np.max(data_sick[label]),\n",
    "\"minimalna\",np.min(data_sick[label]),\n",
    "\"srednia\" ,np.mean(data_sick[label]),\n",
    "\"odchylenie\",np.std(data_sick[label], ddof=1) )"
   ]
  },
  {
   "attachments": {},
   "cell_type": "markdown",
   "metadata": {},
   "source": [
    "Q-T interwał"
   ]
  },
  {
   "cell_type": "code",
   "execution_count": 473,
   "metadata": {},
   "outputs": [
    {
     "data": {
      "text/plain": [
       "<matplotlib.legend.Legend at 0x7fce346f1a30>"
      ]
     },
     "execution_count": 473,
     "metadata": {},
     "output_type": "execute_result"
    },
    {
     "data": {
      "image/png": "[encoded data removed]",
      "text/plain": [
       "<Figure size 1500x500 with 1 Axes>"
      ]
     },
     "metadata": {},
     "output_type": "display_data"
    }
   ],
   "source": [
    "label=\"Q-T_interval\"\n",
    "title=\"Q-T interwał\"\n",
    "xlabel=\"milisekundy\"\n",
    "\n",
    "labels=[\"Wszyscy\",\"Zdrowy\",\"Zablokowana prawa odnoga pęczka Hisa\"]\n",
    "\n",
    "fig,axs=plt.subplots(1,1,figsize=[15,5])\n",
    "axs.hist([data[label],data_normal[label],data_sick[label]],bins=50,label=labels)\n",
    "axs.set_title(title)\n",
    "axs.set_xlabel(xlabel)\n",
    "axs.set_ylabel(\"liczba przypadków\")  \n",
    "axs.legend(loc='upper right')\n",
    "axs.legend(loc='upper left')   "
   ]
  },
  {
   "cell_type": "code",
   "execution_count": 474,
   "metadata": {},
   "outputs": [
    {
     "name": "stdout",
     "output_type": "stream",
     "text": [
      "Dla Całości\n",
      "maksymalna wartosc 509 minimalna 232 srednia 367.1973392461197 odchylenie 33.42173068220055\n",
      "Dla zdrowych\n",
      "maksymalna wartosc 450 minimalna 241 srednia 367.2 odchylenie 26.458845246973247\n",
      "Dla chorych\n",
      "maksymalna wartosc 440 minimalna 303 srednia 369.76 odchylenie 26.007502842096024\n"
     ]
    }
   ],
   "source": [
    "print(\"Dla Całości\")\n",
    "print(  \"maksymalna wartosc\",np.max(data[label]),\n",
    "\"minimalna\",np.min(data[label]),\n",
    "\"srednia\" ,np.mean(data[label]),\n",
    "\"odchylenie\",np.std(data[label], ddof=1) )\n",
    "\n",
    "print(\"Dla zdrowych\")\n",
    "print(  \"maksymalna wartosc\",np.max(data_normal[label]),\n",
    "\"minimalna\",np.min(data_normal[label]),\n",
    "\"srednia\" ,np.mean(data_normal[label]),\n",
    "\"odchylenie\",np.std(data_normal[label], ddof=1) )\n",
    "\n",
    "print(\"Dla chorych\")\n",
    "print(  \"maksymalna wartosc\",np.max(data_sick[label]),\n",
    "\"minimalna\",np.min(data_sick[label]),\n",
    "\"srednia\" ,np.mean(data_sick[label]),\n",
    "\"odchylenie\",np.std(data_sick[label], ddof=1) )"
   ]
  },
  {
   "attachments": {},
   "cell_type": "markdown",
   "metadata": {},
   "source": [
    "T interwał"
   ]
  },
  {
   "cell_type": "code",
   "execution_count": 475,
   "metadata": {},
   "outputs": [
    {
     "data": {
      "text/plain": [
       "<matplotlib.legend.Legend at 0x7fce34de9a00>"
      ]
     },
     "execution_count": 475,
     "metadata": {},
     "output_type": "execute_result"
    },
    {
     "data": {
      "image/png": "[encoded data removed]",
      "text/plain": [
       "<Figure size 1500x500 with 1 Axes>"
      ]
     },
     "metadata": {},
     "output_type": "display_data"
    }
   ],
   "source": [
    "label=\"T_interval\"\n",
    "title=\"T interwał\"\n",
    "xlabel=\"milisekundy\"\n",
    "\n",
    "labels=[\"Wszyscy\",\"Zdrowy\",\"Zablokowana prawa odnoga pęczka Hisa\"]\n",
    "\n",
    "fig,axs=plt.subplots(1,1,figsize=[15,5])\n",
    "axs.hist([data[label],data_normal[label],data_sick[label]],bins=50,label=labels)\n",
    "axs.set_title(title)\n",
    "axs.set_xlabel(xlabel)\n",
    "axs.set_ylabel(\"liczba przypadków\")  \n",
    "axs.legend(loc='upper right')\n",
    "axs.legend(loc='upper left')   "
   ]
  },
  {
   "cell_type": "code",
   "execution_count": 476,
   "metadata": {},
   "outputs": [
    {
     "name": "stdout",
     "output_type": "stream",
     "text": [
      "Dla Całości\n",
      "maksymalna wartosc 381 minimalna 108 srednia 169.99334811529934 odchylenie 35.66021686368737\n",
      "Dla zdrowych\n",
      "maksymalna wartosc 292 minimalna 111 srednia 162.91836734693877 odchylenie 24.3265327172787\n",
      "Dla chorych\n",
      "maksymalna wartosc 260 minimalna 132 srednia 169.32 odchylenie 26.86583445985793\n"
     ]
    }
   ],
   "source": [
    "print(\"Dla Całości\")\n",
    "print(  \"maksymalna wartosc\",np.max(data[label]),\n",
    "\"minimalna\",np.min(data[label]),\n",
    "\"srednia\" ,np.mean(data[label]),\n",
    "\"odchylenie\",np.std(data[label], ddof=1) )\n",
    "\n",
    "print(\"Dla zdrowych\")\n",
    "print(  \"maksymalna wartosc\",np.max(data_normal[label]),\n",
    "\"minimalna\",np.min(data_normal[label]),\n",
    "\"srednia\" ,np.mean(data_normal[label]),\n",
    "\"odchylenie\",np.std(data_normal[label], ddof=1) )\n",
    "\n",
    "print(\"Dla chorych\")\n",
    "print(  \"maksymalna wartosc\",np.max(data_sick[label]),\n",
    "\"minimalna\",np.min(data_sick[label]),\n",
    "\"srednia\" ,np.mean(data_sick[label]),\n",
    "\"odchylenie\",np.std(data_sick[label], ddof=1) )"
   ]
  },
  {
   "attachments": {},
   "cell_type": "markdown",
   "metadata": {},
   "source": [
    "P interwał"
   ]
  },
  {
   "cell_type": "code",
   "execution_count": 477,
   "metadata": {},
   "outputs": [
    {
     "data": {
      "text/plain": [
       "<matplotlib.legend.Legend at 0x7fce34c509d0>"
      ]
     },
     "execution_count": 477,
     "metadata": {},
     "output_type": "execute_result"
    },
    {
     "data": {
      "image/png": "[encoded data removed]",
      "text/plain": [
       "<Figure size 1500x500 with 1 Axes>"
      ]
     },
     "metadata": {},
     "output_type": "display_data"
    }
   ],
   "source": [
    "label=\"P_interval\"\n",
    "title=\"P interwał\"\n",
    "xlabel=\"milisekundy\"\n",
    "\n",
    "labels=[\"Wszyscy\",\"Zdrowy\",\"Zablokowana prawa odnoga pęczka Hisa\"]\n",
    "\n",
    "fig,axs=plt.subplots(1,1,figsize=[15,5])\n",
    "axs.hist([data[label],data_normal[label],data_sick[label]],bins=50,label=labels)\n",
    "axs.set_title(title)\n",
    "axs.set_xlabel(xlabel)\n",
    "axs.set_ylabel(\"liczba przypadków\")  \n",
    "axs.legend(loc='upper right')\n",
    "axs.legend(loc='upper left')   "
   ]
  },
  {
   "cell_type": "code",
   "execution_count": 478,
   "metadata": {},
   "outputs": [
    {
     "name": "stdout",
     "output_type": "stream",
     "text": [
      "Dla Całości\n",
      "maksymalna wartosc 205 minimalna 0 srednia 89.9911308203991 odchylenie 25.853775332446627\n",
      "Dla zdrowych\n",
      "maksymalna wartosc 205 minimalna 0 srednia 92.2326530612245 odchylenie 23.39554206305599\n",
      "Dla chorych\n",
      "maksymalna wartosc 204 minimalna 0 srednia 91.18 odchylenie 28.508280214988883\n"
     ]
    }
   ],
   "source": [
    "print(\"Dla Całości\")\n",
    "print(  \"maksymalna wartosc\",np.max(data[label]),\n",
    "\"minimalna\",np.min(data[label]),\n",
    "\"srednia\" ,np.mean(data[label]),\n",
    "\"odchylenie\",np.std(data[label], ddof=1) )\n",
    "\n",
    "print(\"Dla zdrowych\")\n",
    "print(  \"maksymalna wartosc\",np.max(data_normal[label]),\n",
    "\"minimalna\",np.min(data_normal[label]),\n",
    "\"srednia\" ,np.mean(data_normal[label]),\n",
    "\"odchylenie\",np.std(data_normal[label], ddof=1) )\n",
    "\n",
    "print(\"Dla chorych\")\n",
    "print(  \"maksymalna wartosc\",np.max(data_sick[label]),\n",
    "\"minimalna\",np.min(data_sick[label]),\n",
    "\"srednia\" ,np.mean(data_sick[label]),\n",
    "\"odchylenie\",np.std(data_sick[label], ddof=1) )"
   ]
  },
  {
   "attachments": {},
   "cell_type": "markdown",
   "metadata": {},
   "source": [
    "Wektor QRS"
   ]
  },
  {
   "cell_type": "code",
   "execution_count": 479,
   "metadata": {},
   "outputs": [
    {
     "data": {
      "text/plain": [
       "<matplotlib.legend.Legend at 0x7fce349d37f0>"
      ]
     },
     "execution_count": 479,
     "metadata": {},
     "output_type": "execute_result"
    },
    {
     "data": {
      "image/png": "[encoded data removed]",
      "text/plain": [
       "<Figure size 1500x500 with 1 Axes>"
      ]
     },
     "metadata": {},
     "output_type": "display_data"
    }
   ],
   "source": [
    "label=\"QRS\"\n",
    "title=\"Wektor QRS\"\n",
    "xlabel=\"stopnie\"\n",
    "\n",
    "labels=[\"Wszyscy\",\"Zdrowy\",\"Zablokowana prawa odnoga pęczka Hisa\"]\n",
    "\n",
    "fig,axs=plt.subplots(1,1,figsize=[15,5])\n",
    "axs.hist([data[label],data_normal[label],data_sick[label]],bins=50,label=labels)\n",
    "axs.set_title(title)\n",
    "axs.set_xlabel(xlabel)\n",
    "axs.set_ylabel(\"liczba przypadków\")  \n",
    "axs.legend(loc='upper right')\n",
    "axs.legend(loc='upper left')   "
   ]
  },
  {
   "cell_type": "code",
   "execution_count": 480,
   "metadata": {},
   "outputs": [
    {
     "name": "stdout",
     "output_type": "stream",
     "text": [
      "Dla Całości\n",
      "maksymalna wartosc 169 minimalna -172 srednia 33.753880266075384 odchylenie 45.452433762231884\n",
      "Dla zdrowych\n",
      "maksymalna wartosc 169 minimalna -58 srednia 36.78775510204082 odchylenie 36.108724892779065\n",
      "Dla chorych\n",
      "maksymalna wartosc 155 minimalna -166 srednia 31.98 odchylenie 66.63561896077587\n"
     ]
    }
   ],
   "source": [
    "print(\"Dla Całości\")\n",
    "print(  \"maksymalna wartosc\",np.max(data[label]),\n",
    "\"minimalna\",np.min(data[label]),\n",
    "\"srednia\" ,np.mean(data[label]),\n",
    "\"odchylenie\",np.std(data[label], ddof=1) )\n",
    "\n",
    "print(\"Dla zdrowych\")\n",
    "print(  \"maksymalna wartosc\",np.max(data_normal[label]),\n",
    "\"minimalna\",np.min(data_normal[label]),\n",
    "\"srednia\" ,np.mean(data_normal[label]),\n",
    "\"odchylenie\",np.std(data_normal[label], ddof=1) )\n",
    "\n",
    "print(\"Dla chorych\")\n",
    "print(  \"maksymalna wartosc\",np.max(data_sick[label]),\n",
    "\"minimalna\",np.min(data_sick[label]),\n",
    "\"srednia\" ,np.mean(data_sick[label]),\n",
    "\"odchylenie\",np.std(data_sick[label], ddof=1) )"
   ]
  },
  {
   "attachments": {},
   "cell_type": "markdown",
   "metadata": {},
   "source": [
    "Wektor T"
   ]
  },
  {
   "cell_type": "code",
   "execution_count": 481,
   "metadata": {},
   "outputs": [
    {
     "data": {
      "text/plain": [
       "<matplotlib.legend.Legend at 0x7fce347e8d30>"
      ]
     },
     "execution_count": 481,
     "metadata": {},
     "output_type": "execute_result"
    },
    {
     "data": {
      "image/png": "[encoded data removed]",
      "text/plain": [
       "<Figure size 1500x500 with 1 Axes>"
      ]
     },
     "metadata": {},
     "output_type": "display_data"
    }
   ],
   "source": [
    "label=\"T\"\n",
    "title=\"Wektor T\"\n",
    "xlabel=\"stopnie\"\n",
    "\n",
    "labels=[\"Wszyscy\",\"Zdrowy\",\"Zablokowana prawa odnoga pęczka Hisa\"]\n",
    "\n",
    "fig,axs=plt.subplots(1,1,figsize=[15,5])\n",
    "axs.hist([data[label],data_normal[label],data_sick[label]],bins=50,label=labels)\n",
    "axs.set_title(title)\n",
    "axs.set_xlabel(xlabel)\n",
    "axs.set_ylabel(\"liczba przypadków\")  \n",
    "axs.legend(loc='upper right')\n",
    "axs.legend(loc='upper left')   "
   ]
  },
  {
   "cell_type": "code",
   "execution_count": 482,
   "metadata": {},
   "outputs": [
    {
     "name": "stdout",
     "output_type": "stream",
     "text": [
      "Dla Całości\n",
      "maksymalna wartosc 179.0 minimalna -177.0 srednia 35.86820499905266 odchylenie 57.436543356977\n",
      "Dla zdrowych\n",
      "maksymalna wartosc 150.0 minimalna -177.0 srednia 36.41393442622951 odchylenie 38.77272959091385\n",
      "Dla chorych\n",
      "maksymalna wartosc 136.0 minimalna -21.0 srednia 45.34 odchylenie 29.723631771946806\n"
     ]
    }
   ],
   "source": [
    "print(\"Dla Całości\")\n",
    "print(  \"maksymalna wartosc\",np.max(data[label]),\n",
    "\"minimalna\",np.min(data[label]),\n",
    "\"srednia\" ,np.mean(data[label]),\n",
    "\"odchylenie\",np.std(data[label], ddof=1) )\n",
    "\n",
    "print(\"Dla zdrowych\")\n",
    "print(  \"maksymalna wartosc\",np.max(data_normal[label]),\n",
    "\"minimalna\",np.min(data_normal[label]),\n",
    "\"srednia\" ,np.mean(data_normal[label]),\n",
    "\"odchylenie\",np.std(data_normal[label], ddof=1) )\n",
    "\n",
    "print(\"Dla chorych\")\n",
    "print(  \"maksymalna wartosc\",np.max(data_sick[label]),\n",
    "\"minimalna\",np.min(data_sick[label]),\n",
    "\"srednia\" ,np.mean(data_sick[label]),\n",
    "\"odchylenie\",np.std(data_sick[label], ddof=1) )"
   ]
  },
  {
   "attachments": {},
   "cell_type": "markdown",
   "metadata": {},
   "source": [
    "Wektor P"
   ]
  },
  {
   "cell_type": "code",
   "execution_count": 483,
   "metadata": {},
   "outputs": [
    {
     "data": {
      "text/plain": [
       "<matplotlib.legend.Legend at 0x7fce3467a610>"
      ]
     },
     "execution_count": 483,
     "metadata": {},
     "output_type": "execute_result"
    },
    {
     "data": {
      "image/png": "[encoded data removed]",
      "text/plain": [
       "<Figure size 1500x500 with 1 Axes>"
      ]
     },
     "metadata": {},
     "output_type": "display_data"
    }
   ],
   "source": [
    "label=\"P\"\n",
    "title=\"Wektor P\"\n",
    "xlabel=\"stopnie\"\n",
    "\n",
    "labels=[\"Wszyscy\",\"Zdrowy\",\"Zablokowana prawa odnoga pęczka Hisa\"]\n",
    "\n",
    "fig,axs=plt.subplots(1,1,figsize=[15,5])\n",
    "axs.hist([data[label],data_normal[label],data_sick[label]],bins=50,label=labels)\n",
    "axs.set_title(title)\n",
    "axs.set_xlabel(xlabel)\n",
    "axs.set_ylabel(\"liczba przypadków\")  \n",
    "axs.legend(loc='upper right')\n",
    "axs.legend(loc='upper left')   "
   ]
  },
  {
   "cell_type": "code",
   "execution_count": 484,
   "metadata": {},
   "outputs": [
    {
     "name": "stdout",
     "output_type": "stream",
     "text": [
      "Dla Całości\n",
      "maksymalna wartosc 176.0 minimalna -170.0 srednia 48.88319990708058 odchylenie 28.65631257413903\n",
      "Dla zdrowych\n",
      "maksymalna wartosc 107.0 minimalna -170.0 srednia 49.30125523012552 odchylenie 26.71788785146703\n",
      "Dla chorych\n",
      "maksymalna wartosc 78.0 minimalna -9.0 srednia 52.83333333333333 odchylenie 19.61500189446149\n"
     ]
    }
   ],
   "source": [
    "print(\"Dla Całości\")\n",
    "print(  \"maksymalna wartosc\",np.max(data[label]),\n",
    "\"minimalna\",np.min(data[label]),\n",
    "\"srednia\" ,np.mean(data[label]),\n",
    "\"odchylenie\",np.std(data[label], ddof=1) )\n",
    "\n",
    "print(\"Dla zdrowych\")\n",
    "print(  \"maksymalna wartosc\",np.max(data_normal[label]),\n",
    "\"minimalna\",np.min(data_normal[label]),\n",
    "\"srednia\" ,np.mean(data_normal[label]),\n",
    "\"odchylenie\",np.std(data_normal[label], ddof=1) )\n",
    "\n",
    "print(\"Dla chorych\")\n",
    "print(  \"maksymalna wartosc\",np.max(data_sick[label]),\n",
    "\"minimalna\",np.min(data_sick[label]),\n",
    "\"srednia\" ,np.mean(data_sick[label]),\n",
    "\"odchylenie\",np.std(data_sick[label], ddof=1) )"
   ]
  },
  {
   "attachments": {},
   "cell_type": "markdown",
   "metadata": {},
   "source": [
    "Wektor QRST"
   ]
  },
  {
   "cell_type": "code",
   "execution_count": 485,
   "metadata": {},
   "outputs": [
    {
     "data": {
      "text/plain": [
       "<matplotlib.legend.Legend at 0x7fce347787c0>"
      ]
     },
     "execution_count": 485,
     "metadata": {},
     "output_type": "execute_result"
    },
    {
     "data": {
      "image/png": "[encoded data removed]",
      "text/plain": [
       "<Figure size 1500x500 with 1 Axes>"
      ]
     },
     "metadata": {},
     "output_type": "display_data"
    }
   ],
   "source": [
    "label=\"QRST\"\n",
    "title=\"Wektor QRST\"\n",
    "xlabel=\"stopnie\"\n",
    "\n",
    "labels=[\"Wszyscy\",\"Zdrowy\",\"Zablokowana prawa odnoga pęczka Hisa\"]\n",
    "\n",
    "fig,axs=plt.subplots(1,1,figsize=[15,5])\n",
    "axs.hist([data[label],data_normal[label],data_sick[label]],bins=50,label=labels)\n",
    "axs.set_title(title)\n",
    "axs.set_xlabel(xlabel)\n",
    "axs.set_ylabel(\"liczba przypadków\")  \n",
    "axs.legend(loc='upper right')\n",
    "axs.legend(loc='upper left')   "
   ]
  },
  {
   "cell_type": "code",
   "execution_count": 486,
   "metadata": {},
   "outputs": [
    {
     "name": "stdout",
     "output_type": "stream",
     "text": [
      "Dla Całości\n",
      "maksymalna wartosc 166.0 minimalna -135.0 srednia 36.761795281887245 odchylenie 36.008725304211424\n",
      "Dla zdrowych\n",
      "maksymalna wartosc 124.0 minimalna -32.0 srednia 37.56967213114754 odchylenie 26.876601406636045\n",
      "Dla chorych\n",
      "maksymalna wartosc 92.0 minimalna -29.0 srednia 42.78 odchylenie 31.659083230889802\n"
     ]
    }
   ],
   "source": [
    "print(\"Dla Całości\")\n",
    "print(  \"maksymalna wartosc\",np.max(data[label]),\n",
    "\"minimalna\",np.min(data[label]),\n",
    "\"srednia\" ,np.mean(data[label]),\n",
    "\"odchylenie\",np.std(data[label], ddof=1) )\n",
    "\n",
    "print(\"Dla zdrowych\")\n",
    "print(  \"maksymalna wartosc\",np.max(data_normal[label]),\n",
    "\"minimalna\",np.min(data_normal[label]),\n",
    "\"srednia\" ,np.mean(data_normal[label]),\n",
    "\"odchylenie\",np.std(data_normal[label], ddof=1) )\n",
    "\n",
    "print(\"Dla chorych\")\n",
    "print(  \"maksymalna wartosc\",np.max(data_sick[label]),\n",
    "\"minimalna\",np.min(data_sick[label]),\n",
    "\"srednia\" ,np.mean(data_sick[label]),\n",
    "\"odchylenie\",np.std(data_sick[label], ddof=1) )"
   ]
  },
  {
   "attachments": {},
   "cell_type": "markdown",
   "metadata": {},
   "source": [
    "Tętno"
   ]
  },
  {
   "cell_type": "code",
   "execution_count": 487,
   "metadata": {},
   "outputs": [
    {
     "data": {
      "text/plain": [
       "<matplotlib.legend.Legend at 0x7fce34bf9e50>"
      ]
     },
     "execution_count": 487,
     "metadata": {},
     "output_type": "execute_result"
    },
    {
     "data": {
      "image/png": "[encoded data removed]",
      "text/plain": [
       "<Figure size 1500x500 with 1 Axes>"
      ]
     },
     "metadata": {},
     "output_type": "display_data"
    }
   ],
   "source": [
    "label=\"Heart_rate\"\n",
    "title=\"Tętno\"\n",
    "xlabel=\"uderzenia na minute [bpm]\"\n",
    "\n",
    "labels=[\"Wszyscy\",\"Zdrowy\",\"Zablokowana prawa odnoga pęczka Hisa\"]\n",
    "\n",
    "fig,axs=plt.subplots(1,1,figsize=[15,5])\n",
    "axs.hist([data[label],data_normal[label],data_sick[label]],bins=50,label=labels)\n",
    "axs.set_title(title)\n",
    "axs.set_xlabel(xlabel)\n",
    "axs.set_ylabel(\"liczba przypadków\")  \n",
    "axs.legend(loc='upper right')\n",
    "axs.legend(loc='upper left')   "
   ]
  },
  {
   "cell_type": "code",
   "execution_count": 488,
   "metadata": {},
   "outputs": [
    {
     "name": "stdout",
     "output_type": "stream",
     "text": [
      "Dla Całości\n",
      "maksymalna wartosc 163.0 minimalna 44.0 srednia 74.47339246119734 odchylenie 13.86908478191168\n",
      "Dla zdrowych\n",
      "maksymalna wartosc 101.0 minimalna 55.0 srednia 73.2 odchylenie 9.159604830763044\n",
      "Dla chorych\n",
      "maksymalna wartosc 123.0 minimalna 50.0 srednia 72.82 odchylenie 13.655663398646835\n"
     ]
    }
   ],
   "source": [
    "print(\"Dla Całości\")\n",
    "print(  \"maksymalna wartosc\",np.max(data[label]),\n",
    "\"minimalna\",np.min(data[label]),\n",
    "\"srednia\" ,np.mean(data[label]),\n",
    "\"odchylenie\",np.std(data[label], ddof=1) )\n",
    "\n",
    "print(\"Dla zdrowych\")\n",
    "print(  \"maksymalna wartosc\",np.max(data_normal[label]),\n",
    "\"minimalna\",np.min(data_normal[label]),\n",
    "\"srednia\" ,np.mean(data_normal[label]),\n",
    "\"odchylenie\",np.std(data_normal[label], ddof=1) )\n",
    "\n",
    "print(\"Dla chorych\")\n",
    "print(  \"maksymalna wartosc\",np.max(data_sick[label]),\n",
    "\"minimalna\",np.min(data_sick[label]),\n",
    "\"srednia\" ,np.mean(data_sick[label]),\n",
    "\"odchylenie\",np.std(data_sick[label], ddof=1) )"
   ]
  },
  {
   "attachments": {},
   "cell_type": "markdown",
   "metadata": {},
   "source": [
    "Szerokość Q fali"
   ]
  },
  {
   "cell_type": "code",
   "execution_count": 489,
   "metadata": {},
   "outputs": [
    {
     "data": {
      "text/plain": [
       "<matplotlib.legend.Legend at 0x7fce3406f550>"
      ]
     },
     "execution_count": 489,
     "metadata": {},
     "output_type": "execute_result"
    },
    {
     "data": {
      "image/png": "[encoded data removed]",
      "text/plain": [
       "<Figure size 1500x500 with 1 Axes>"
      ]
     },
     "metadata": {},
     "output_type": "display_data"
    }
   ],
   "source": [
    "label=\"Q_wave\"\n",
    "title=\"Szerokośc Q fali\"\n",
    "xlabel=\"milisekundy\"\n",
    "\n",
    "labels=[\"Wszyscy\",\"Zdrowy\",\"Zablokowana prawa odnoga pęczka Hisa\"]\n",
    "\n",
    "fig,axs=plt.subplots(1,1,figsize=[15,5])\n",
    "axs.hist([data[label],data_normal[label],data_sick[label]],bins=50,label=labels)\n",
    "axs.set_title(title)\n",
    "axs.set_xlabel(xlabel)\n",
    "axs.set_ylabel(\"liczba przypadków\")  \n",
    "axs.legend(loc='upper right')\n",
    "axs.legend(loc='upper left')   "
   ]
  },
  {
   "cell_type": "code",
   "execution_count": 490,
   "metadata": {},
   "outputs": [
    {
     "name": "stdout",
     "output_type": "stream",
     "text": [
      "Dla Całości\n",
      "maksymalna wartosc 88 minimalna 0 srednia 5.587583148558759 odchylenie 10.626517195271662\n",
      "Dla zdrowych\n",
      "maksymalna wartosc 72 minimalna 0 srednia 5.208163265306123 odchylenie 9.641607170264416\n",
      "Dla chorych\n",
      "maksymalna wartosc 44 minimalna 0 srednia 7.36 odchylenie 11.002337413996562\n"
     ]
    }
   ],
   "source": [
    "print(\"Dla Całości\")\n",
    "print(  \"maksymalna wartosc\",np.max(data[label]),\n",
    "\"minimalna\",np.min(data[label]),\n",
    "\"srednia\" ,np.mean(data[label]),\n",
    "\"odchylenie\",np.std(data[label], ddof=1) )\n",
    "\n",
    "print(\"Dla zdrowych\")\n",
    "print(  \"maksymalna wartosc\",np.max(data_normal[label]),\n",
    "\"minimalna\",np.min(data_normal[label]),\n",
    "\"srednia\" ,np.mean(data_normal[label]),\n",
    "\"odchylenie\",np.std(data_normal[label], ddof=1) )\n",
    "\n",
    "print(\"Dla chorych\")\n",
    "print(  \"maksymalna wartosc\",np.max(data_sick[label]),\n",
    "\"minimalna\",np.min(data_sick[label]),\n",
    "\"srednia\" ,np.mean(data_sick[label]),\n",
    "\"odchylenie\",np.std(data_sick[label], ddof=1) )"
   ]
  },
  {
   "attachments": {},
   "cell_type": "markdown",
   "metadata": {},
   "source": [
    "\n",
    "MODYFIKOWANIE DANYCH DO UCZENIA"
   ]
  },
  {
   "cell_type": "code",
   "execution_count": 491,
   "metadata": {},
   "outputs": [],
   "source": [
    "pd.DataFrame(data).to_csv(\"better_data.csv\")"
   ]
  },
  {
   "attachments": {},
   "cell_type": "markdown",
   "metadata": {},
   "source": [
    "Dane kategoryczne"
   ]
  },
  {
   "attachments": {},
   "cell_type": "markdown",
   "metadata": {},
   "source": [
    "Onehot Poprawny zapis"
   ]
  },
  {
   "attachments": {},
   "cell_type": "markdown",
   "metadata": {},
   "source": [
    "Normalizacja"
   ]
  },
  {
   "attachments": {},
   "cell_type": "markdown",
   "metadata": {},
   "source": [
    "Korelacja z klasa chorob"
   ]
  },
  {
   "attachments": {},
   "cell_type": "markdown",
   "metadata": {},
   "source": [
    "odrzucenie cech z Korelacja poniżej 0.1"
   ]
  },
  {
   "attachments": {},
   "cell_type": "markdown",
   "metadata": {},
   "source": [
    "cO ZROBIE W SIECI:\n",
    "DATALOADER NA TE DANE Z BATCHAMI\n",
    "PODZIELENIE DANYCH NA UCZACE TESTOWE I VALIDACYJNE \n",
    "DOPISANIE SZTUCZNIE DANYCH (MOZE)\n",
    "ZBIORY TESTOWY I WALIDACYJNY TEN SAM PROCENT RODZAJOW DANYCH\n",
    "DLA TESTOWEGO ZROBI SIE KOPIE ABY BYLO POROWNO LUB ZASTOSUJE SIE UCZENIE Z WAZENIEM\n",
    "ZASTOSOWANIE FUNKCJI RELU I SOFTMAX I CROSSENTROPI I LINNIOWEGO MODELU SIECI"
   ]
  }
 ],
 "metadata": {
  "kernelspec": {
   "display_name": "Python 3",
   "language": "python",
   "name": "python3"
  },
  "language_info": {
   "codemirror_mode": {
    "name": "ipython",
    "version": 3
   },
   "file_extension": ".py",
   "mimetype": "text/x-python",
   "name": "python",
   "nbconvert_exporter": "python",
   "pygments_lexer": "ipython3",
   "version": "3.8.10"
  },
  "orig_nbformat": 4
 },
 "nbformat": 4,
 "nbformat_minor": 2
}
