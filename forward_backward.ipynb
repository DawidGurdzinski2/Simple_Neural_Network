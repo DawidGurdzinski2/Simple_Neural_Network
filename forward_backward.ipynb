{
 "cells": [
  {
   "cell_type": "code",
   "execution_count": 2,
   "metadata": {},
   "outputs": [],
   "source": [
    "import numpy as np\n",
    "import nnfs\n",
    "from nnfs.datasets import spiral_data\n",
    "\n",
    "nnfs.init()\n"
   ]
  },
  {
   "cell_type": "code",
   "execution_count": 3,
   "metadata": {},
   "outputs": [],
   "source": [
    "class Linear():\n",
    "    def __init__(self,inputs,outputs):\n",
    "        self.weights=0.01*np.random.randn(outputs,inputs)\n",
    "        self.biases=np.zeros((1,outputs))\n",
    "\n",
    "    def forward(self,inputs):\n",
    "        self.inputs=inputs\n",
    "        self.outputs=np.dot(inputs,self.weights.T)+self.biases\n",
    "        return self.outputs\n",
    "    \n",
    "    def backward(self,dnextinputs):\n",
    "        self.dweights=np.dot(dnextinputs.T,self.inputs)\n",
    "        self.dbiases=np.sum(dnextinputs,axis=0,keepdims=True)\n",
    "        self.dinputs=np.dot(dnextinputs,self.weights)\n",
    "        return self.dinputs"
   ]
  },
  {
   "cell_type": "code",
   "execution_count": 4,
   "metadata": {},
   "outputs": [],
   "source": [
    "class Relu():\n",
    "    def __init__(self) -> None:\n",
    "        pass\n",
    "    \n",
    "    def forward(self,inputs):\n",
    "        self.inputs=inputs\n",
    "        self.outputs=np.maximum(0,inputs)\n",
    "        return self.outputs\n",
    "\n",
    "\n",
    "    def backward(self,dnextinputs):\n",
    "        self.dinputs=dnextinputs\n",
    "        self.dinputs[self.inputs<=0]=0\n",
    "        return self.dinputs\n",
    "\n",
    "\n",
    "\n",
    "    "
   ]
  },
  {
   "cell_type": "code",
   "execution_count": 5,
   "metadata": {},
   "outputs": [],
   "source": [
    "class Softmax():\n",
    "    def __init__(self) -> None:\n",
    "        pass\n",
    "\n",
    "    def forward(self,inputs):\n",
    "        self.inputs=inputs\n",
    "        exp=np.exp(inputs -np.max(inputs, axis=1,keepdims=True))\n",
    "        exp_sum=np.sum(exp,axis=1,keepdims=True)\n",
    "        self.outputs=exp/exp_sum\n",
    "        return self.outputs\n",
    "\n",
    "    def backwards(self,dnextinputs):\n",
    "        self.dinputs = np.zeros_like(dnextinputs)\n",
    "        i=0\n",
    "        for output, dnextinput in zip(self.outputs, dnextinputs):\n",
    "            output = output.reshape(-1, 1)\n",
    "            Jacobian= np.diagflat(output) - np.dot(output,output.T)\n",
    "            self.dinputs[i] = np.dot(Jacobian, dnextinput)\n",
    "            i+=1\n",
    "        return self.dinputs\n"
   ]
  },
  {
   "cell_type": "code",
   "execution_count": 6,
   "metadata": {},
   "outputs": [],
   "source": [
    "class CrossEntropyLoss():\n",
    "    def __init__(self) -> None:\n",
    "        pass\n",
    "        \n",
    "    def forward(self,inputs,labels):\n",
    "        self.labels=labels\n",
    "        self.inputs=inputs\n",
    "        epsilon=1e-7\n",
    "        inputs=np.clip(inputs,epsilon,1-epsilon)\n",
    "        one_hot=np.eye(len(inputs[0]))[labels]\n",
    "        self.output=-np.sum(one_hot*np.log(inputs))/one_hot.shape[0]\n",
    "        return self.output\n",
    "    \n",
    "    def backward(self):\n",
    "        one_hot=np.eye(len(self.inputs[0]))[self.labels]\n",
    "        self.dinputs=(-one_hot/self.inputs)/one_hot.shape[0]\n",
    "        return self.dinputs\n",
    "\n",
    "\n",
    "class Optimizer_Adam():\n",
    "    def __init__(self,learning_rate):\n",
    "        self.learning_rate=learning_rate\n",
    "        self.current_learning_rate=learning_rate\n",
    "        self.learning_rate_step"
   ]
  },
  {
   "cell_type": "code",
   "execution_count": 7,
   "metadata": {},
   "outputs": [
    {
     "data": {
      "text/plain": [
       "5"
      ]
     },
     "execution_count": 7,
     "metadata": {},
     "output_type": "execute_result"
    }
   ],
   "source": [
    "a=np.array([2,3,4,1,2])\n",
    "b=np.array([3,4,7,-1,3])\n",
    "c=a-b\n",
    "c.shape[0]\n"
   ]
  },
  {
   "cell_type": "code",
   "execution_count": 8,
   "metadata": {},
   "outputs": [
    {
     "name": "stdout",
     "output_type": "stream",
     "text": [
      "loss 1.0986122131347655\n",
      "acc: 0.2\n",
      "d1w [[ 9.2849623e-06  0.0000000e+00 -1.0265569e-05]\n",
      " [ 1.6771819e-05  0.0000000e+00  1.9986226e-05]]\n",
      "d1b [[0.00142796 0.         0.00076794]]\n",
      "d2w [[-1.0124815e-05  1.4038321e-05 -3.9135052e-06]\n",
      " [ 0.0000000e+00  0.0000000e+00  0.0000000e+00]\n",
      " [-5.2157357e-05  2.7492268e-05  2.4665092e-05]]\n",
      "d2b [[-0.46666667  0.3333336   0.13333309]]\n"
     ]
    }
   ],
   "source": [
    "X, y = spiral_data(samples=100, classes=3)\n",
    "X=np.array([[0.        , 0.        ],\n",
    " [0.00299556, 0.00964661],\n",
    " [0.01288097, 0.01556285],\n",
    " [0.02997479, 0.0044481 ],\n",
    " [0.03931246 ,0.00932828]])\n",
    "y=np.array([0, 0 ,2 ,0 ,0])\n",
    "\n",
    "dense1 = Linear(2, 3)\n",
    "\n",
    "activation1 =Relu()\n",
    "\n",
    "\n",
    "dense2 = Linear(3, 3)\n",
    "\n",
    "activation2 =Softmax()\n",
    "lossFun=CrossEntropyLoss()\n",
    "\n",
    "\n",
    "\n",
    "x=dense1.forward(X)\n",
    "x=activation1.forward(x)\n",
    "x=dense2.forward(x)\n",
    "x=activation2.forward(x)\n",
    "loss=lossFun.forward(x,y)\n",
    "\n",
    "print(\"loss\",loss)\n",
    "predictions = np.argmax(x, axis=1)\n",
    "accuracy = np.mean(predictions==y)\n",
    "print('acc:', accuracy)\n",
    "\n",
    "\n",
    "# # Backward pass\n",
    "z=lossFun.backward()\n",
    "z=activation2.backwards(z)\n",
    "z=dense2.backward(z)\n",
    "z=activation1.backward(z)\n",
    "z=dense1.backward(z)\n",
    "\n",
    "\n",
    "# Print gradients\n",
    "print(\"d1w\",dense1.dweights.T)\n",
    "print(\"d1b\",dense1.dbiases)\n",
    "print(\"d2w\",dense2.dweights.T)\n",
    "print(\"d2b\",dense2.dbiases)"
   ]
  },
  {
   "cell_type": "code",
   "execution_count": 9,
   "metadata": {},
   "outputs": [],
   "source": [
    "import pandas as pd"
   ]
  },
  {
   "cell_type": "code",
   "execution_count": null,
   "metadata": {},
   "outputs": [],
   "source": [
    "\n"
   ]
  },
  {
   "cell_type": "code",
   "execution_count": 10,
   "metadata": {},
   "outputs": [
    {
     "ename": "NameError",
     "evalue": "name 'data' is not defined",
     "output_type": "error",
     "traceback": [
      "\u001b[0;31m---------------------------------------------------------------------------\u001b[0m",
      "\u001b[0;31mNameError\u001b[0m                                 Traceback (most recent call last)",
      "\u001b[1;32m/home/dawid/Desktop/Programing and other/GITHUB/Simple_Neural_Network/forward_backward.ipynb Cell 10\u001b[0m in \u001b[0;36m1\n\u001b[0;32m----> <a href='vscode-notebook-cell:/home/dawid/Desktop/Programing%20and%20other/GITHUB/Simple_Neural_Network/forward_backward.ipynb#X12sZmlsZQ%3D%3D?line=0'>1</a>\u001b[0m data\u001b[39m.\u001b[39mhead(\u001b[39m5\u001b[39m)\n",
      "\u001b[0;31mNameError\u001b[0m: name 'data' is not defined"
     ]
    }
   ],
   "source": [
    "data.head(5)"
   ]
  },
  {
   "cell_type": "code",
   "execution_count": null,
   "metadata": {},
   "outputs": [],
   "source": [
    "  \n",
    "categorical_data=[\"Sex\",\"Existence_of_diphasic_derivation_of_P_wave\",\"Existence_of_diphasic_derivation_of_R_wave\",\n",
    "                  \"Existence_of_diphasic_derivation_of_T_wave\",\"Existence_of_ragged_P_wave\",\n",
    "                  \"Existence_of_ragged_R_wave\",\"Existence_of_ragged_T_wave\"]\n",
    "\n",
    "\n",
    "# check empty/valid data\n",
    "# remove/change them or columns\n",
    "#check caterogical data (0,1) or higher if higher get dummies\n",
    "# normalize data\n",
    "# check correlation\n",
    "# remove data with low corelation\n",
    "# wykład 2 do  \n",
    "# 1-6 pozad drugim wchodza do 1 kolokwia\n",
    "#\n",
    "\n"
   ]
  }
 ],
 "metadata": {
  "kernelspec": {
   "display_name": "Python 3",
   "language": "python",
   "name": "python3"
  },
  "language_info": {
   "codemirror_mode": {
    "name": "ipython",
    "version": 3
   },
   "file_extension": ".py",
   "mimetype": "text/x-python",
   "name": "python",
   "nbconvert_exporter": "python",
   "pygments_lexer": "ipython3",
   "version": "3.8.10"
  },
  "orig_nbformat": 4
 },
 "nbformat": 4,
 "nbformat_minor": 2
}
