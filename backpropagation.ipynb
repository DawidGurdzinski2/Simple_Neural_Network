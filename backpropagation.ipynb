{
 "cells": [
  {
   "cell_type": "code",
   "execution_count": 3,
   "metadata": {},
   "outputs": [],
   "source": [
    "x=[1.0 , -2.0 ,3.0]\n",
    "w=[-3.0, -1.0 ,2.0]\n",
    "b=1.0\n",
    "\n",
    "xw0=x[0]*w[0]\n",
    "xw1=x[1]*w[1]\n",
    "xw2=x[2]*w[2]\n",
    "\n",
    "z=xw0+xw1+xw2+b \n",
    "y=max(z,0)"
   ]
  }
 ],
 "metadata": {
  "kernelspec": {
   "display_name": "Python 3",
   "language": "python",
   "name": "python3"
  },
  "language_info": {
   "codemirror_mode": {
    "name": "ipython",
    "version": 3
   },
   "file_extension": ".py",
   "mimetype": "text/x-python",
   "name": "python",
   "nbconvert_exporter": "python",
   "pygments_lexer": "ipython3",
   "version": "3.8.10"
  },
  "orig_nbformat": 4
 },
 "nbformat": 4,
 "nbformat_minor": 2
}
